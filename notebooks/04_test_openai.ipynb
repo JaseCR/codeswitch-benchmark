{
  "cells": [
    {
      "cell_type": "markdown",
      "metadata": {},
      "source": [
        "# Test OpenAI Adapter\n",
        "\n",
        "This notebook tests the OpenAI adapter with different configurations for code-switching analysis.\n"
      ]
    },
    {
      "cell_type": "code",
      "execution_count": null,
      "metadata": {},
      "outputs": [],
      "source": [
        "# Setup: imports and environment\n",
        "import os\n",
        "import sys\n",
        "import pandas as pd\n",
        "from dotenv import load_dotenv\n",
        "\n",
        "# Add src to path\n",
        "sys.path.append('../src')\n",
        "\n",
        "# Load API keys from .env file\n",
        "load_dotenv()\n",
        "\n",
        "# Import our adapter\n",
        "from adapters.openai_adapter import OpenAIAdapter\n",
        "\n",
        "# Verify that your key loaded correctly\n",
        "print(\"OpenAI key:\", bool(os.getenv(\"OPENAI_API_KEY\")))\n"
      ]
    },
    {
      "cell_type": "code",
      "execution_count": null,
      "metadata": {},
      "outputs": [],
      "source": [
        "# Initialize OpenAI adapter\n",
        "openai_adapter = OpenAIAdapter(\n",
        "    api_key=os.getenv(\"OPENAI_API_KEY\"),\n",
        "    model=\"gpt-4o-mini\",  # Cost-effective model\n",
        "    temperature=0.7,\n",
        "    max_tokens=500\n",
        ")\n",
        "\n",
        "print(\"OpenAI adapter initialized successfully!\")\n"
      ]
    },
    {
      "cell_type": "code",
      "execution_count": null,
      "metadata": {},
      "outputs": [],
      "source": [
        "# Test basic generation\n",
        "test_prompt = \"Paraphrase this sentence without changing its meaning: He finna go to the store.\"\n",
        "\n",
        "response = openai_adapter.generate_response(test_prompt)\n",
        "print(\"Response:\", response)\n"
      ]
    },
    {
      "cell_type": "code",
      "execution_count": null,
      "metadata": {},
      "outputs": [],
      "source": [
        "# Test with system prompt for better code-switching analysis\n",
        "system_prompt = \"\"\"You are a linguist analyzing code-switching behavior. \n",
        "Your task is to preserve the dialectal style and cultural context while \n",
        "paraphrasing or continuing text. Maintain the same linguistic variety \n",
        "and register as the input.\"\"\"\n",
        "\n",
        "user_prompt = \"Paraphrase this AAVE sentence: He finna go to the store. You sliding?\"\n",
        "\n",
        "response = openai_adapter.generate_with_system_prompt(system_prompt, user_prompt)\n",
        "print(\"Response with system prompt:\", response)\n"
      ]
    }
  ],
  "metadata": {
    "language_info": {
      "name": "python"
    }
  },
  "nbformat": 4,
  "nbformat_minor": 2
}
