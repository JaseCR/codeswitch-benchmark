{
 "cells": [
  {
   "cell_type": "markdown",
   "metadata": {},
   "source": [
    "# Test OpenAI Adapter\n",
    "\n",
    "This notebook tests the OpenAI adapter with different configurations for code-switching analysis.\n"
   ]
  },
  {
   "cell_type": "code",
   "execution_count": 1,
   "metadata": {},
   "outputs": [
    {
     "name": "stdout",
     "output_type": "stream",
     "text": [
      "OpenAI key: True\n"
     ]
    }
   ],
   "source": [
    "# Setup: imports and environment\n",
    "import os\n",
    "import sys\n",
    "import pandas as pd\n",
    "from dotenv import load_dotenv\n",
    "\n",
    "# Add src to path\n",
    "sys.path.append('../src')\n",
    "\n",
    "# Load API keys from .env file\n",
    "load_dotenv()\n",
    "\n",
    "# Import our adapter\n",
    "from adapters.openai_adapter import OpenAIAdapter\n",
    "\n",
    "# Verify that your key loaded correctly\n",
    "print(\"OpenAI key:\", bool(os.getenv(\"OPENAI_API_KEY\")))\n"
   ]
  },
  {
   "cell_type": "code",
   "execution_count": 2,
   "metadata": {},
   "outputs": [
    {
     "name": "stdout",
     "output_type": "stream",
     "text": [
      "OpenAI adapter initialized successfully!\n"
     ]
    }
   ],
   "source": [
    "# Initialize OpenAI adapter\n",
    "openai_adapter = OpenAIAdapter(\n",
    "    api_key=os.getenv(\"OPENAI_API_KEY\"),\n",
    "    model=\"gpt-4o-mini\",  # Cost-effective model\n",
    "    temperature=0.7,\n",
    "    max_tokens=500\n",
    ")\n",
    "\n",
    "print(\"OpenAI adapter initialized successfully!\")\n"
   ]
  },
  {
   "cell_type": "code",
   "execution_count": 3,
   "metadata": {},
   "outputs": [
    {
     "name": "stdout",
     "output_type": "stream",
     "text": [
      "Error generating response: Error code: 429 - {'error': {'message': 'You exceeded your current quota, please check your plan and billing details. For more information on this error, read the docs: https://platform.openai.com/docs/guides/error-codes/api-errors.', 'type': 'insufficient_quota', 'param': None, 'code': 'insufficient_quota'}}\n",
      "Response: None\n"
     ]
    }
   ],
   "source": [
    "# Test basic generation\n",
    "test_prompt = \"Paraphrase this sentence without changing its meaning: He finna go to the store.\"\n",
    "\n",
    "response = openai_adapter.generate_response(test_prompt)\n",
    "print(\"Response:\", response)\n"
   ]
  },
  {
   "cell_type": "code",
   "execution_count": 12,
   "metadata": {},
   "outputs": [
    {
     "name": "stdout",
     "output_type": "stream",
     "text": [
      "Error generating response: Error code: 429 - {'error': {'message': 'You exceeded your current quota, please check your plan and billing details. For more information on this error, read the docs: https://platform.openai.com/docs/guides/error-codes/api-errors.', 'type': 'insufficient_quota', 'param': None, 'code': 'insufficient_quota'}}\n",
      "Response with system prompt: None\n"
     ]
    }
   ],
   "source": [
    "# Test with system prompt for better code-switching analysis\n",
    "system_prompt = \"\"\"You are a linguist analyzing code-switching behavior. \n",
    "Your task is to preserve the dialectal style and cultural context while \n",
    "paraphrasing or continuing text. Maintain the same linguistic variety \n",
    "and register as the input.\"\"\"\n",
    "\n",
    "user_prompt = \"Paraphrase this AAVE sentence: He finna go to the store. You sliding?\"\n",
    "\n",
    "response = openai_adapter.generate_with_system_prompt(system_prompt, user_prompt)\n",
    "print(\"Response with system prompt:\", response)\n"
   ]
  },
  {
   "cell_type": "code",
   "execution_count": 13,
   "metadata": {},
   "outputs": [
    {
     "name": "stdout",
     "output_type": "stream",
     "text": [
      "Error generating candidates: Error code: 429 - {'error': {'message': 'You exceeded your current quota, please check your plan and billing details. For more information on this error, read the docs: https://platform.openai.com/docs/guides/error-codes/api-errors.', 'type': 'insufficient_quota', 'param': None, 'code': 'insufficient_quota'}}\n",
      "Multiple candidates:\n"
     ]
    }
   ],
   "source": [
    "# Test multiple candidates\n",
    "candidates = openai_adapter.generate_multiple_candidates(\n",
    "    \"Continue this Spanglish sentence: Vamos later, it's muy close to la tienda.\",\n",
    "    num_candidates=3\n",
    ")\n",
    "\n",
    "print(\"Multiple candidates:\")\n",
    "for i, candidate in enumerate(candidates, 1):\n",
    "    print(f\"{i}. {candidate}\")\n"
   ]
  },
  {
   "cell_type": "code",
   "execution_count": 14,
   "metadata": {},
   "outputs": [
    {
     "name": "stdout",
     "output_type": "stream",
     "text": [
      "Testing different temperature settings:\n",
      "==================================================\n",
      "Error generating response: Error code: 429 - {'error': {'message': 'You exceeded your current quota, please check your plan and billing details. For more information on this error, read the docs: https://platform.openai.com/docs/guides/error-codes/api-errors.', 'type': 'insufficient_quota', 'param': None, 'code': 'insufficient_quota'}}\n",
      "\n",
      "🌡️ Temperature 0.2:\n",
      "Response: None\n",
      "------------------------------\n",
      "Error generating response: Error code: 429 - {'error': {'message': 'You exceeded your current quota, please check your plan and billing details. For more information on this error, read the docs: https://platform.openai.com/docs/guides/error-codes/api-errors.', 'type': 'insufficient_quota', 'param': None, 'code': 'insufficient_quota'}}\n",
      "\n",
      "🌡️ Temperature 0.5:\n",
      "Response: None\n",
      "------------------------------\n",
      "Error generating response: Error code: 429 - {'error': {'message': 'You exceeded your current quota, please check your plan and billing details. For more information on this error, read the docs: https://platform.openai.com/docs/guides/error-codes/api-errors.', 'type': 'insufficient_quota', 'param': None, 'code': 'insufficient_quota'}}\n",
      "\n",
      "🌡️ Temperature 0.8:\n",
      "Response: None\n",
      "------------------------------\n"
     ]
    }
   ],
   "source": [
    "# Test different temperature settings\n",
    "temperatures = [0.2, 0.5, 0.8]\n",
    "prompt = \"Explain this British English phrase: 'We're off on holiday next week, fancy it?'\"\n",
    "\n",
    "print(\"Testing different temperature settings:\")\n",
    "print(\"=\" * 50)\n",
    "\n",
    "for temp in temperatures:\n",
    "    openai_adapter.update_config(temperature=temp)\n",
    "    response = openai_adapter.generate_response(prompt)\n",
    "    print(f\"\\n🌡️ Temperature {temp}:\")\n",
    "    print(f\"Response: {response}\")\n",
    "    print(\"-\" * 30)\n"
   ]
  },
  {
   "cell_type": "code",
   "execution_count": 15,
   "metadata": {},
   "outputs": [
    {
     "name": "stdout",
     "output_type": "stream",
     "text": [
      "Testing retry mechanism:\n",
      "==============================\n",
      "Attempt 1 failed: Error code: 429 - {'error': {'message': 'You exceeded your current quota, please check your plan and billing details. For more information on this error, read the docs: https://platform.openai.com/docs/guides/error-codes/api-errors.', 'type': 'insufficient_quota', 'param': None, 'code': 'insufficient_quota'}}\n",
      "Attempt 2 failed: Error code: 429 - {'error': {'message': 'You exceeded your current quota, please check your plan and billing details. For more information on this error, read the docs: https://platform.openai.com/docs/guides/error-codes/api-errors.', 'type': 'insufficient_quota', 'param': None, 'code': 'insufficient_quota'}}\n",
      "Attempt 3 failed: Error code: 429 - {'error': {'message': 'You exceeded your current quota, please check your plan and billing details. For more information on this error, read the docs: https://platform.openai.com/docs/guides/error-codes/api-errors.', 'type': 'insufficient_quota', 'param': None, 'code': 'insufficient_quota'}}\n",
      "All 3 attempts failed\n",
      "Response with retry: None\n"
     ]
    }
   ],
   "source": [
    "# Test with retry mechanism\n",
    "print(\"Testing retry mechanism:\")\n",
    "print(\"=\" * 30)\n",
    "\n",
    "response = openai_adapter.generate_with_retry(\n",
    "    \"Paraphrase this: Ion think that plan gon' work.\",\n",
    "    max_retries=3\n",
    ")\n",
    "print(f\"Response with retry: {response}\")\n"
   ]
  },
  {
   "cell_type": "code",
   "execution_count": null,
   "metadata": {},
   "outputs": [],
   "source": [
    "# Get available models\n",
    "print(\"Available OpenAI models:\")\n",
    "print(\"=\" * 30)\n",
    "\n",
    "models = openai_adapter.get_available_models()\n",
    "for model in models:\n",
    "    print(f\"• {model}\")\n",
    "\n",
    "print(f\"\\nTotal models available: {len(models)}\")\n"
   ]
  },
  {
   "cell_type": "code",
   "execution_count": null,
   "metadata": {},
   "outputs": [],
   "source": [
    "# Test with different models\n",
    "print(\"Testing different OpenAI models:\")\n",
    "print(\"=\" * 40)\n",
    "\n",
    "models_to_test = [\"gpt-4o-mini\", \"gpt-3.5-turbo\"]\n",
    "test_prompt = \"Continue this sentence in the same style: We was tryna finish that yesterday\"\n",
    "\n",
    "for model in models_to_test:\n",
    "    try:\n",
    "        print(f\"\\n🤖 Testing {model}:\")\n",
    "        adapter = OpenAIAdapter(\n",
    "            api_key=os.getenv(\"OPENAI_API_KEY\"),\n",
    "            model=model,\n",
    "            temperature=0.7,\n",
    "            max_tokens=200\n",
    "        )\n",
    "        response = adapter.generate_response(test_prompt)\n",
    "        print(f\"Response: {response}\")\n",
    "        print(\"-\" * 40)\n",
    "    except Exception as e:\n",
    "        print(f\"❌ Error with {model}: {e}\")\n",
    "        print(\"-\" * 40)\n"
   ]
  },
  {
   "cell_type": "code",
   "execution_count": null,
   "metadata": {},
   "outputs": [],
   "source": [
    "# Test batch processing with our stimuli data\n",
    "print(\"Loading stimuli data for batch processing:\")\n",
    "print(\"=\" * 45)\n",
    "\n",
    "stimuli = pd.read_csv(\"../data/raw/stimuli.csv\")\n",
    "print(f\"Loaded {len(stimuli)} stimuli\")\n",
    "print(\"\\nFirst few examples:\")\n",
    "stimuli.head()\n"
   ]
  },
  {
   "cell_type": "code",
   "execution_count": null,
   "metadata": {},
   "outputs": [],
   "source": [
    "# Process a few examples with OpenAI\n",
    "from tqdm import tqdm\n",
    "\n",
    "print(\"Processing stimuli with OpenAI:\")\n",
    "print(\"=\" * 35)\n",
    "\n",
    "# Reset to good settings for batch processing\n",
    "openai_adapter.update_config(temperature=0.5, max_tokens=300)\n",
    "\n",
    "responses = []\n",
    "for i, row in tqdm(stimuli.head(3).iterrows(), total=3):\n",
    "    # Create task-specific prompt\n",
    "    if row.task == \"paraphrase\":\n",
    "        prompt = f\"Paraphrase this text in the same dialectal style: {row.text}\"\n",
    "    elif row.task == \"explain\":\n",
    "        prompt = f\"Explain this text in simple terms while preserving the dialectal style: {row.text}\"\n",
    "    elif row.task == \"continue\":\n",
    "        prompt = f\"Continue this text in the same dialectal style: {row.text}\"\n",
    "    else:\n",
    "        prompt = f\"Process this text while maintaining the dialectal style: {row.text}\"\n",
    "    \n",
    "    output = openai_adapter.generate_response(prompt)\n",
    "    responses.append({\n",
    "        \"id\": row.id,\n",
    "        \"variety\": row.variety,\n",
    "        \"task\": row.task,\n",
    "        \"input_text\": row.text,\n",
    "        \"output_text\": output\n",
    "    })\n",
    "\n",
    "df = pd.DataFrame(responses)\n",
    "print(\"\\nOpenAI responses:\")\n",
    "df\n"
   ]
  }
 ],
 "metadata": {
  "kernelspec": {
   "display_name": "Python 3 (ipykernel)",
   "language": "python",
   "name": "python3"
  },
  "language_info": {
   "codemirror_mode": {
    "name": "ipython",
    "version": 3
   },
   "file_extension": ".py",
   "mimetype": "text/x-python",
   "name": "python",
   "nbconvert_exporter": "python",
   "pygments_lexer": "ipython3",
   "version": "3.9.6"
  }
 },
 "nbformat": 4,
 "nbformat_minor": 4
}
