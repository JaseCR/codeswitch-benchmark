{
 "cells": [
  {
   "cell_type": "markdown",
   "id": "29f29e1a",
   "metadata": {},
   "source": [
    "# Exploratory Data Analysis: Code-Switching in Language Models\n",
    "\n",
    "## Research Question\n",
    "**Do GPT models maintain code-switching patterns when paraphrasing or continuing text in different linguistic varieties?**\n",
    "\n",
    "This analysis examines how various language models (Gemini, Mistral, Cohere) handle code-switching tasks across four linguistic varieties:\n",
    "- **AAVE** (African American Vernacular English)\n",
    "- **Spanglish** (Spanish-English code-switching)\n",
    "- **BrEng** (British English)\n",
    "- **StdEng** (Standard English)\n",
    "\n",
    "## Analysis Overview\n",
    "We will evaluate whether language models preserve dialectal markers and code-switching patterns when processing text, which is crucial for understanding their cultural and linguistic sensitivity.\n"
   ]
  },
  {
   "cell_type": "code",
   "execution_count": 1,
   "id": "6375bc42",
   "metadata": {},
   "outputs": [
    {
     "name": "stdout",
     "output_type": "stream",
     "text": [
      "Libraries imported successfully\n"
     ]
    }
   ],
   "source": [
    "# Import required libraries\n",
    "import pandas as pd\n",
    "import numpy as np\n",
    "import matplotlib.pyplot as plt\n",
    "import seaborn as sns\n",
    "import os\n",
    "import sys\n",
    "import warnings\n",
    "warnings.filterwarnings('ignore')\n",
    "\n",
    "# Set up plotting style\n",
    "plt.style.use('seaborn-v0_8')\n",
    "sns.set_palette(\"husl\")\n",
    "plt.rcParams['figure.figsize'] = (12, 8)\n",
    "plt.rcParams['font.size'] = 10\n",
    "\n",
    "print(\"Libraries imported successfully\")\n"
   ]
  },
  {
   "cell_type": "markdown",
   "id": "26a24686",
   "metadata": {},
   "source": [
    "## 1. Data Loading and Overview\n",
    "\n",
    "We begin by loading the stimuli dataset to understand the structure of our code-switching benchmark.\n"
   ]
  },
  {
   "cell_type": "code",
   "execution_count": 2,
   "id": "fa0003a9",
   "metadata": {},
   "outputs": [
    {
     "name": "stdout",
     "output_type": "stream",
     "text": [
      "Loaded stimuli data: 12 rows, 4 columns\n",
      "\n",
      "Dataset Overview:\n",
      "   Total examples: 12\n",
      "   Varieties: ['AAVE', 'Spanglish', 'BrEng', 'StdEng']\n",
      "   Tasks: ['paraphrase', 'explain', 'continue']\n",
      "\n",
      "First 5 examples:\n"
     ]
    },
    {
     "data": {
      "text/html": [
       "<div>\n",
       "<style scoped>\n",
       "    .dataframe tbody tr th:only-of-type {\n",
       "        vertical-align: middle;\n",
       "    }\n",
       "\n",
       "    .dataframe tbody tr th {\n",
       "        vertical-align: top;\n",
       "    }\n",
       "\n",
       "    .dataframe thead th {\n",
       "        text-align: right;\n",
       "    }\n",
       "</style>\n",
       "<table border=\"1\" class=\"dataframe\">\n",
       "  <thead>\n",
       "    <tr style=\"text-align: right;\">\n",
       "      <th></th>\n",
       "      <th>id</th>\n",
       "      <th>variety</th>\n",
       "      <th>task</th>\n",
       "      <th>text</th>\n",
       "    </tr>\n",
       "  </thead>\n",
       "  <tbody>\n",
       "    <tr>\n",
       "      <th>0</th>\n",
       "      <td>aave_01</td>\n",
       "      <td>AAVE</td>\n",
       "      <td>paraphrase</td>\n",
       "      <td>He finna go to the store. You sliding?</td>\n",
       "    </tr>\n",
       "    <tr>\n",
       "      <th>1</th>\n",
       "      <td>aave_02</td>\n",
       "      <td>AAVE</td>\n",
       "      <td>explain</td>\n",
       "      <td>Ion think that plan gon’ work.</td>\n",
       "    </tr>\n",
       "    <tr>\n",
       "      <th>2</th>\n",
       "      <td>aave_03</td>\n",
       "      <td>AAVE</td>\n",
       "      <td>continue</td>\n",
       "      <td>We was tryna finish that yesterday</td>\n",
       "    </tr>\n",
       "    <tr>\n",
       "      <th>3</th>\n",
       "      <td>span_01</td>\n",
       "      <td>Spanglish</td>\n",
       "      <td>paraphrase</td>\n",
       "      <td>Vamos later, it’s muy close to la tienda.</td>\n",
       "    </tr>\n",
       "    <tr>\n",
       "      <th>4</th>\n",
       "      <td>span_02</td>\n",
       "      <td>Spanglish</td>\n",
       "      <td>explain</td>\n",
       "      <td>No entiendo bien, pero I think it’s fine.</td>\n",
       "    </tr>\n",
       "  </tbody>\n",
       "</table>\n",
       "</div>"
      ],
      "text/plain": [
       "        id    variety        task                                       text\n",
       "0  aave_01       AAVE  paraphrase     He finna go to the store. You sliding?\n",
       "1  aave_02       AAVE     explain             Ion think that plan gon’ work.\n",
       "2  aave_03       AAVE    continue         We was tryna finish that yesterday\n",
       "3  span_01  Spanglish  paraphrase  Vamos later, it’s muy close to la tienda.\n",
       "4  span_02  Spanglish     explain  No entiendo bien, pero I think it’s fine."
      ]
     },
     "execution_count": 2,
     "metadata": {},
     "output_type": "execute_result"
    }
   ],
   "source": [
    "# Load stimuli data\n",
    "stimuli = pd.read_csv('../data/raw/stimuli.csv')\n",
    "print(f\"Loaded stimuli data: {stimuli.shape[0]} rows, {stimuli.shape[1]} columns\")\n",
    "\n",
    "# Display basic info\n",
    "print(\"\\nDataset Overview:\")\n",
    "print(f\"   Total examples: {len(stimuli)}\")\n",
    "print(f\"   Varieties: {list(stimuli['variety'].unique())}\")\n",
    "print(f\"   Tasks: {list(stimuli['task'].unique())}\")\n",
    "\n",
    "# Show first few examples\n",
    "print(\"\\nFirst 5 examples:\")\n",
    "stimuli.head()\n"
   ]
  },
  {
   "cell_type": "markdown",
   "id": "6d7d0b83",
   "metadata": {},
   "source": [
    "## 2. Dataset Distribution Analysis\n",
    "\n",
    "Understanding the distribution of linguistic varieties and tasks is crucial for evaluating whether our benchmark adequately represents different code-switching scenarios.\n"
   ]
  },
  {
   "cell_type": "code",
   "execution_count": 3,
   "id": "615bc94d",
   "metadata": {},
   "outputs": [
    {
     "data": {
      "image/png": "[encoded data removed]",
      "text/plain": [
       "<Figure size 1500x600 with 2 Axes>"
      ]
     },
     "metadata": {},
     "output_type": "display_data"
    },
    {
     "name": "stdout",
     "output_type": "stream",
     "text": [
      "Variety Distribution:\n",
      "  AAVE: 3 examples\n",
      "  Spanglish: 3 examples\n",
      "  BrEng: 3 examples\n",
      "  StdEng: 3 examples\n",
      "\n",
      "Task Distribution:\n",
      "  paraphrase: 4 examples\n",
      "  explain: 4 examples\n",
      "  continue: 4 examples\n"
     ]
    }
   ],
   "source": [
    "# Variety distribution\n",
    "fig, (ax1, ax2) = plt.subplots(1, 2, figsize=(15, 6))\n",
    "\n",
    "# Variety distribution pie chart\n",
    "variety_counts = stimuli['variety'].value_counts()\n",
    "ax1.pie(variety_counts.values, labels=variety_counts.index, autopct='%1.1f%%', startangle=90)\n",
    "ax1.set_title('Distribution of Linguistic Varieties')\n",
    "\n",
    "# Task distribution bar chart\n",
    "task_counts = stimuli['task'].value_counts()\n",
    "task_counts.plot(kind='bar', ax=ax2, color=['#FF6B6B', '#4ECDC4', '#45B7D1'])\n",
    "ax2.set_title('Distribution of Task Types')\n",
    "ax2.set_xlabel('Task Type')\n",
    "ax2.set_ylabel('Number of Examples')\n",
    "ax2.tick_params(axis='x', rotation=45)\n",
    "\n",
    "plt.tight_layout()\n",
    "plt.show()\n",
    "\n",
    "print(\"Variety Distribution:\")\n",
    "for variety, count in variety_counts.items():\n",
    "    print(f\"  {variety}: {count} examples\")\n",
    "\n",
    "print(\"\\nTask Distribution:\")\n",
    "for task, count in task_counts.items():\n",
    "    print(f\"  {task}: {count} examples\")\n"
   ]
  },
  {
   "cell_type": "markdown",
   "id": "5a1112c2",
   "metadata": {},
   "source": [
    "**Interpretation:** Both charts show the dataset is evenly balanced. The variety pie chart has AAVE, Spanglish, BrEng, and StdEng each at 25% (3 items each). The task bar chart has paraphrase, explain, and continue each with 4 items. This balance means any differences we see later are more likely from the models, not from one group or task showing up more than others. Still, the sample sizes are small, so we should treat any differences as early signals and include simple measures of uncertainty when we report results."
   ]
  },
  {
   "cell_type": "markdown",
   "id": "29bd7c34",
   "metadata": {},
   "source": [
    "## 3. Text Length and Complexity Analysis\n",
    "\n",
    "Analyzing the length and complexity of our stimuli helps us understand whether the benchmark presents appropriate challenges for language models.\n"
   ]
  },
  {
   "cell_type": "code",
   "execution_count": 4,
   "id": "1a40fe7d",
   "metadata": {},
   "outputs": [
    {
     "data": {
      "image/png": "[encoded data removed]",
      "text/plain": [
       "<Figure size 1500x1000 with 2 Axes>"
      ]
     },
     "metadata": {},
     "output_type": "display_data"
    },
    {
     "name": "stdout",
     "output_type": "stream",
     "text": [
      "Text Statistics Summary:\n",
      "  Text length range: 30 - 50 characters\n",
      "  Word count range: 6 - 10 words\n"
     ]
    }
   ],
   "source": [
    "# Calculate text statistics\n",
    "stimuli['text_length'] = stimuli['text'].str.len()\n",
    "stimuli['word_count'] = stimuli['text'].str.split().str.len()\n",
    "\n",
    "# Create a 2x2 grid, then drop the top row\n",
    "fig, axes = plt.subplots(2, 2, figsize=(15, 10))\n",
    "fig.delaxes(axes[0, 0])\n",
    "fig.delaxes(axes[0, 1])\n",
    "\n",
    "# Re-pack the remaining axes into a 1D list for convenience\n",
    "bottom_left, bottom_right = axes[1, 0], axes[1, 1]\n",
    "\n",
    "# Text length distribution\n",
    "bottom_left.hist(stimuli['text_length'], bins=10, alpha=0.7, color='#FF6B6B')\n",
    "bottom_left.set_title('Overall Text Length Distribution')\n",
    "bottom_left.set_xlabel('Character Count')\n",
    "bottom_left.set_ylabel('Frequency')\n",
    "\n",
    "# Word count distribution\n",
    "bottom_right.hist(stimuli['word_count'], bins=10, alpha=0.7, color='#4ECDC4')\n",
    "bottom_right.set_title('Overall Word Count Distribution')\n",
    "bottom_right.set_xlabel('Word Count')\n",
    "bottom_right.set_ylabel('Frequency')\n",
    "\n",
    "plt.tight_layout()\n",
    "plt.show()\n",
    "\n",
    "# Summary stats\n",
    "print(\"Text Statistics Summary:\")\n",
    "print(f\"  Text length range: {stimuli['text_length'].min()} - \"\n",
    "      f\"{stimuli['text_length'].max()} characters\")\n",
    "print(f\"  Word count range: {stimuli['word_count'].min()} - \"\n",
    "      f\"{stimuli['word_count'].max()} words\")\n"
   ]
  },
  {
   "cell_type": "markdown",
   "id": "afd215b9",
   "metadata": {},
   "source": [
    "**Interpretation:** The two histograms show that prompts are short and tightly grouped. Character counts fall between 30 and 50, with most items in the mid to high 30s. Word counts range from 6 to 10, centered near 8. This narrow spread means inputs are similar in size, which helps us compare model behavior without size getting in the way. The small right tail suggests a few longer prompts that could add a bit of variability or latency, but nothing extreme. For the study, we can keep our current templates, monitor the longest items, and if needed set a soft cap or light pre-summary for those few outliers so results stay consistent across tasks and varieties.\n"
   ]
  },
  {
   "cell_type": "markdown",
   "id": "ee1ee1f6",
   "metadata": {},
   "source": [
    "vizualizations if you need to but y"
   ]
  },
  {
   "cell_type": "markdown",
   "id": "405181a1",
   "metadata": {},
   "source": [
    "# Exploratory Data Analysis: Code-Switching in Language Models\n",
    "\n",
    "## Research Question\n",
    "**Do GPT models maintain code-switching patterns when paraphrasing or continuing text in different linguistic varieties?**\n",
    "\n",
    "This analysis examines how various language models (Gemini, Mistral, Cohere) handle code-switching tasks across four linguistic varieties:\n",
    "- **AAVE** (African American Vernacular English)\n",
    "- **Spanglish** (Spanish-English code-switching)\n",
    "- **BrEng** (British English)\n",
    "- **StdEng** (Standard English)\n",
    "\n",
    "## Analysis Overview\n",
    "We will evaluate whether language models preserve dialectal markers and code-switching patterns when processing text, which is crucial for understanding their cultural and linguistic sensitivity.\n"
   ]
  },
  {
   "cell_type": "code",
   "execution_count": 5,
   "id": "80afbd88",
   "metadata": {},
   "outputs": [
    {
     "name": "stdout",
     "output_type": "stream",
     "text": [
      "Libraries imported successfully\n",
      "Working directory: /Users/jase/codeswitch-benchmark/notebooks\n",
      "Python path includes: ../src\n"
     ]
    }
   ],
   "source": [
    "# Import required libraries\n",
    "import pandas as pd\n",
    "import numpy as np\n",
    "import matplotlib.pyplot as plt\n",
    "import seaborn as sns\n",
    "import plotly.express as px\n",
    "import plotly.graph_objects as go\n",
    "import re\n",
    "from collections import Counter\n",
    "import os\n",
    "import sys\n",
    "import warnings\n",
    "warnings.filterwarnings('ignore')\n",
    "\n",
    "# Set up plotting style\n",
    "plt.style.use('seaborn-v0_8')\n",
    "sns.set_palette(\"husl\")\n",
    "plt.rcParams['figure.figsize'] = (12, 8)\n",
    "plt.rcParams['font.size'] = 10\n",
    "\n",
    "# Add src to path for API imports\n",
    "current_dir = os.getcwd()\n",
    "if current_dir.endswith('notebooks'):\n",
    "    src_path = os.path.join('..', 'src')\n",
    "else:\n",
    "    src_path = 'src'\n",
    "\n",
    "if src_path not in sys.path:\n",
    "    sys.path.insert(0, src_path)\n",
    "\n",
    "print(\"Libraries imported successfully\")\n",
    "print(f\"Working directory: {current_dir}\")\n",
    "print(f\"Python path includes: {src_path}\")\n"
   ]
  },
  {
   "cell_type": "code",
   "execution_count": 6,
   "id": "99e62f8c",
   "metadata": {},
   "outputs": [
    {
     "name": "stdout",
     "output_type": "stream",
     "text": [
      "Loading datasets...\n",
      "Loaded stimuli data: 12 rows, 4 columns\n",
      "✅ Loaded gemini responses: 12 rows\n",
      "✅ Loaded mistral responses: 12 rows\n",
      "✅ Loaded cohere responses: 12 rows\n",
      "\n",
      "📊 Available datasets:\n",
      "- Stimuli: 12 rows\n",
      "- Gemini responses: 12 rows\n",
      "- Mistral responses: 12 rows\n",
      "- Cohere responses: 12 rows\n"
     ]
    }
   ],
   "source": [
    "# Load datasets\n",
    "print(\"Loading datasets...\")\n",
    "\n",
    "# Load original stimuli data\n",
    "try:\n",
    "    stimuli = pd.read_csv('../data/raw/stimuli.csv')\n",
    "    print(f\"Loaded stimuli data: {stimuli.shape[0]} rows, {stimuli.shape[1]} columns\")\n",
    "except FileNotFoundError:\n",
    "    print(\"stimuli.csv not found. Creating sample data...\")\n",
    "    stimuli = pd.DataFrame({\n",
    "        'id': range(1, 101),\n",
    "        'variety': np.random.choice(['AAVE', 'Spanglish', 'British English', 'Indian English'], 100),\n",
    "        'task': np.random.choice(['paraphrase', 'continue', 'translate'], 100),\n",
    "        'text': [f\"Sample text {i} with some code-switching content.\" for i in range(1, 101)]\n",
    "    })\n",
    "\n",
    "# Load API response data\n",
    "api_responses = {}\n",
    "apis = ['gemini', 'mistral', 'cohere']\n",
    "\n",
    "for api in apis:\n",
    "    try:\n",
    "        df = pd.read_csv(f'../data/raw/{api}_responses.csv')\n",
    "        api_responses[api] = df\n",
    "        print(f\"✅ Loaded {api} responses: {df.shape[0]} rows\")\n",
    "    except FileNotFoundError:\n",
    "        print(f\"⚠️  {api}_responses.csv not found - will create during analysis\")\n",
    "\n",
    "print(f\"\\n📊 Available datasets:\")\n",
    "print(f\"- Stimuli: {stimuli.shape[0]} rows\")\n",
    "for api, df in api_responses.items():\n",
    "    print(f\"- {api.title()} responses: {df.shape[0]} rows\")\n"
   ]
  },
  {
   "cell_type": "code",
   "execution_count": 7,
   "id": "43e3968c",
   "metadata": {},
   "outputs": [
    {
     "name": "stdout",
     "output_type": "stream",
     "text": [
      "🔍 Data Quality Assessment\n",
      "==================================================\n",
      "Missing values per column:\n",
      "id         0\n",
      "variety    0\n",
      "task       0\n",
      "text       0\n",
      "dtype: int64\n",
      "\n",
      "Total missing values: 0\n",
      "\n",
      "Duplicate rows: 0\n",
      "\n",
      "📏 Text Statistics:\n",
      "Average text length: 38.2 characters\n",
      "Average word count: 7.8 words\n",
      "Text length range: 30 - 50 characters\n",
      "\n",
      "📊 Summary Statistics:\n"
     ]
    },
    {
     "data": {
      "text/html": [
       "<div>\n",
       "<style scoped>\n",
       "    .dataframe tbody tr th:only-of-type {\n",
       "        vertical-align: middle;\n",
       "    }\n",
       "\n",
       "    .dataframe tbody tr th {\n",
       "        vertical-align: top;\n",
       "    }\n",
       "\n",
       "    .dataframe thead th {\n",
       "        text-align: right;\n",
       "    }\n",
       "</style>\n",
       "<table border=\"1\" class=\"dataframe\">\n",
       "  <thead>\n",
       "    <tr style=\"text-align: right;\">\n",
       "      <th></th>\n",
       "      <th>text_length</th>\n",
       "      <th>word_count</th>\n",
       "    </tr>\n",
       "  </thead>\n",
       "  <tbody>\n",
       "    <tr>\n",
       "      <th>count</th>\n",
       "      <td>12.000000</td>\n",
       "      <td>12.000000</td>\n",
       "    </tr>\n",
       "    <tr>\n",
       "      <th>mean</th>\n",
       "      <td>38.250000</td>\n",
       "      <td>7.833333</td>\n",
       "    </tr>\n",
       "    <tr>\n",
       "      <th>std</th>\n",
       "      <td>4.974937</td>\n",
       "      <td>1.267304</td>\n",
       "    </tr>\n",
       "    <tr>\n",
       "      <th>min</th>\n",
       "      <td>30.000000</td>\n",
       "      <td>6.000000</td>\n",
       "    </tr>\n",
       "    <tr>\n",
       "      <th>25%</th>\n",
       "      <td>35.750000</td>\n",
       "      <td>7.500000</td>\n",
       "    </tr>\n",
       "    <tr>\n",
       "      <th>50%</th>\n",
       "      <td>37.500000</td>\n",
       "      <td>8.000000</td>\n",
       "    </tr>\n",
       "    <tr>\n",
       "      <th>75%</th>\n",
       "      <td>41.000000</td>\n",
       "      <td>8.250000</td>\n",
       "    </tr>\n",
       "    <tr>\n",
       "      <th>max</th>\n",
       "      <td>50.000000</td>\n",
       "      <td>10.000000</td>\n",
       "    </tr>\n",
       "  </tbody>\n",
       "</table>\n",
       "</div>"
      ],
      "text/plain": [
       "       text_length  word_count\n",
       "count    12.000000   12.000000\n",
       "mean     38.250000    7.833333\n",
       "std       4.974937    1.267304\n",
       "min      30.000000    6.000000\n",
       "25%      35.750000    7.500000\n",
       "50%      37.500000    8.000000\n",
       "75%      41.000000    8.250000\n",
       "max      50.000000   10.000000"
      ]
     },
     "execution_count": 7,
     "metadata": {},
     "output_type": "execute_result"
    }
   ],
   "source": [
    "# Data Quality Assessment\n",
    "print(\"🔍 Data Quality Assessment\")\n",
    "print(\"=\" * 50)\n",
    "\n",
    "# Check for missing values\n",
    "print(\"Missing values per column:\")\n",
    "print(stimuli.isnull().sum())\n",
    "print(f\"\\nTotal missing values: {stimuli.isnull().sum().sum()}\")\n",
    "\n",
    "# Check for duplicates\n",
    "print(f\"\\nDuplicate rows: {stimuli.duplicated().sum()}\")\n",
    "\n",
    "# Basic statistics for text length\n",
    "stimuli['text_length'] = stimuli['text'].str.len()\n",
    "stimuli['word_count'] = stimuli['text'].str.split().str.len()\n",
    "\n",
    "print(f\"\\n📏 Text Statistics:\")\n",
    "print(f\"Average text length: {stimuli['text_length'].mean():.1f} characters\")\n",
    "print(f\"Average word count: {stimuli['word_count'].mean():.1f} words\")\n",
    "print(f\"Text length range: {stimuli['text_length'].min()} - {stimuli['text_length'].max()} characters\")\n",
    "\n",
    "# Display summary statistics\n",
    "print(f\"\\n📊 Summary Statistics:\")\n",
    "stimuli[['text_length', 'word_count']].describe()\n"
   ]
  },
  {
   "cell_type": "markdown",
   "id": "9223a866",
   "metadata": {},
   "source": [
    "## 1. Stimuli Data Analysis\n",
    "\n",
    "Let's examine the original stimuli data, including data quality, distributions, and basic statistics.\n"
   ]
  },
  {
   "cell_type": "code",
   "execution_count": 8,
   "id": "d577c88e",
   "metadata": {},
   "outputs": [
    {
     "name": "stdout",
     "output_type": "stream",
     "text": [
      "🔍 Stimuli Data Quality Assessment\n",
      "==================================================\n",
      "Missing values per column:\n",
      "id             0\n",
      "variety        0\n",
      "task           0\n",
      "text           0\n",
      "text_length    0\n",
      "word_count     0\n",
      "dtype: int64\n",
      "\n",
      "Total missing values: 0\n",
      "\n",
      "Duplicate rows: 0\n",
      "\n",
      "📏 Text Statistics:\n",
      "Average text length: 38.2 characters\n",
      "Average word count: 7.8 words\n",
      "Text length range: 30 - 50 characters\n",
      "\n",
      "📊 Summary Statistics:\n"
     ]
    },
    {
     "data": {
      "text/html": [
       "<div>\n",
       "<style scoped>\n",
       "    .dataframe tbody tr th:only-of-type {\n",
       "        vertical-align: middle;\n",
       "    }\n",
       "\n",
       "    .dataframe tbody tr th {\n",
       "        vertical-align: top;\n",
       "    }\n",
       "\n",
       "    .dataframe thead th {\n",
       "        text-align: right;\n",
       "    }\n",
       "</style>\n",
       "<table border=\"1\" class=\"dataframe\">\n",
       "  <thead>\n",
       "    <tr style=\"text-align: right;\">\n",
       "      <th></th>\n",
       "      <th>text_length</th>\n",
       "      <th>word_count</th>\n",
       "    </tr>\n",
       "  </thead>\n",
       "  <tbody>\n",
       "    <tr>\n",
       "      <th>count</th>\n",
       "      <td>12.000000</td>\n",
       "      <td>12.000000</td>\n",
       "    </tr>\n",
       "    <tr>\n",
       "      <th>mean</th>\n",
       "      <td>38.250000</td>\n",
       "      <td>7.833333</td>\n",
       "    </tr>\n",
       "    <tr>\n",
       "      <th>std</th>\n",
       "      <td>4.974937</td>\n",
       "      <td>1.267304</td>\n",
       "    </tr>\n",
       "    <tr>\n",
       "      <th>min</th>\n",
       "      <td>30.000000</td>\n",
       "      <td>6.000000</td>\n",
       "    </tr>\n",
       "    <tr>\n",
       "      <th>25%</th>\n",
       "      <td>35.750000</td>\n",
       "      <td>7.500000</td>\n",
       "    </tr>\n",
       "    <tr>\n",
       "      <th>50%</th>\n",
       "      <td>37.500000</td>\n",
       "      <td>8.000000</td>\n",
       "    </tr>\n",
       "    <tr>\n",
       "      <th>75%</th>\n",
       "      <td>41.000000</td>\n",
       "      <td>8.250000</td>\n",
       "    </tr>\n",
       "    <tr>\n",
       "      <th>max</th>\n",
       "      <td>50.000000</td>\n",
       "      <td>10.000000</td>\n",
       "    </tr>\n",
       "  </tbody>\n",
       "</table>\n",
       "</div>"
      ],
      "text/plain": [
       "       text_length  word_count\n",
       "count    12.000000   12.000000\n",
       "mean     38.250000    7.833333\n",
       "std       4.974937    1.267304\n",
       "min      30.000000    6.000000\n",
       "25%      35.750000    7.500000\n",
       "50%      37.500000    8.000000\n",
       "75%      41.000000    8.250000\n",
       "max      50.000000   10.000000"
      ]
     },
     "execution_count": 8,
     "metadata": {},
     "output_type": "execute_result"
    }
   ],
   "source": [
    "# Data Quality Assessment\n",
    "print(\"🔍 Stimuli Data Quality Assessment\")\n",
    "print(\"=\" * 50)\n",
    "\n",
    "# Check for missing values\n",
    "print(\"Missing values per column:\")\n",
    "print(stimuli.isnull().sum())\n",
    "print(f\"\\nTotal missing values: {stimuli.isnull().sum().sum()}\")\n",
    "\n",
    "# Check for duplicates\n",
    "print(f\"\\nDuplicate rows: {stimuli.duplicated().sum()}\")\n",
    "\n",
    "# Basic statistics for text length\n",
    "stimuli['text_length'] = stimuli['text'].str.len()\n",
    "stimuli['word_count'] = stimuli['text'].str.split().str.len()\n",
    "\n",
    "print(f\"\\n📏 Text Statistics:\")\n",
    "print(f\"Average text length: {stimuli['text_length'].mean():.1f} characters\")\n",
    "print(f\"Average word count: {stimuli['word_count'].mean():.1f} words\")\n",
    "print(f\"Text length range: {stimuli['text_length'].min()} - {stimuli['text_length'].max()} characters\")\n",
    "\n",
    "# Display summary statistics\n",
    "print(f\"\\n📊 Summary Statistics:\")\n",
    "stimuli[['text_length', 'word_count']].describe()\n"
   ]
  },
  {
   "cell_type": "code",
   "execution_count": 9,
   "id": "def4c6a0",
   "metadata": {},
   "outputs": [
    {
     "name": "stdout",
     "output_type": "stream",
     "text": [
      "📊 Distribution Analysis\n",
      "==================================================\n"
     ]
    },
    {
     "data": {
      "image/png": "[encoded data removed]",
      "text/plain": [
       "<Figure size 1500x1200 with 4 Axes>"
      ]
     },
     "metadata": {},
     "output_type": "display_data"
    },
    {
     "name": "stdout",
     "output_type": "stream",
     "text": [
      "📈 Variety Distribution:\n",
      "variety\n",
      "AAVE         3\n",
      "Spanglish    3\n",
      "BrEng        3\n",
      "StdEng       3\n",
      "Name: count, dtype: int64\n",
      "\n",
      "📈 Task Distribution:\n",
      "task\n",
      "paraphrase    4\n",
      "explain       4\n",
      "continue      4\n",
      "Name: count, dtype: int64\n"
     ]
    }
   ],
   "source": [
    "# Distribution Analysis\n",
    "print(\"📊 Distribution Analysis\")\n",
    "print(\"=\" * 50)\n",
    "\n",
    "# Create subplots for distribution analysis\n",
    "fig, axes = plt.subplots(2, 2, figsize=(15, 12))\n",
    "fig.suptitle('Stimuli Data Distribution Analysis', fontsize=16, fontweight='bold')\n",
    "\n",
    "# 1. Variety distribution\n",
    "variety_counts = stimuli['variety'].value_counts()\n",
    "axes[0, 0].pie(variety_counts.values, labels=variety_counts.index, autopct='%1.1f%%', startangle=90)\n",
    "axes[0, 0].set_title('Distribution by Linguistic Variety')\n",
    "\n",
    "# 2. Task distribution\n",
    "task_counts = stimuli['task'].value_counts()\n",
    "axes[0, 1].bar(task_counts.index, task_counts.values, color=sns.color_palette(\"husl\", len(task_counts)))\n",
    "axes[0, 1].set_title('Distribution by Task Type')\n",
    "axes[0, 1].tick_params(axis='x', rotation=45)\n",
    "\n",
    "# 3. Text length distribution\n",
    "axes[1, 0].hist(stimuli['text_length'], bins=30, alpha=0.7, color='skyblue', edgecolor='black')\n",
    "axes[1, 0].set_title('Text Length Distribution')\n",
    "axes[1, 0].set_xlabel('Character Count')\n",
    "axes[1, 0].set_ylabel('Frequency')\n",
    "\n",
    "# 4. Word count distribution\n",
    "axes[1, 1].hist(stimuli['word_count'], bins=30, alpha=0.7, color='lightgreen', edgecolor='black')\n",
    "axes[1, 1].set_title('Word Count Distribution')\n",
    "axes[1, 1].set_xlabel('Word Count')\n",
    "axes[1, 1].set_ylabel('Frequency')\n",
    "\n",
    "plt.tight_layout()\n",
    "plt.show()\n",
    "\n",
    "# Display counts\n",
    "print(\"📈 Variety Distribution:\")\n",
    "print(variety_counts)\n",
    "print(f\"\\n📈 Task Distribution:\")\n",
    "print(task_counts)\n"
   ]
  },
  {
   "cell_type": "markdown",
   "id": "d4eadab3-7b4a-4031-8d6d-3bd8085604fc",
   "metadata": {},
   "source": [
    "**Interpretation:**\n",
    "Here, the four panels confirm the dataset is balanced and uniform. The variety pie shows an even 25% split across AAVE, Spanglish, BrEng, and StdEng (three items each), and the task bars show equal counts for paraphrase, explain, and continue (four items each). This balance helps ensure that any differences we see later come from the models rather than from one group or task being overrepresented. The text-length histogram is compact (about 30–50 characters, centered in the high-30s/low-40s), and the word-count histogram is similarly tight (6–10 words, centered near 8). Because inputs are similar in size, length is less likely to drive quality or latency differences. Overall, these plots support fair comparisons across varieties and tasks; we only need to watch the small right tails (a few longer prompts) and, if necessary, set a soft cap or brief pre-summary for those cases."
   ]
  },
  {
   "cell_type": "markdown",
   "id": "1a0a4af2",
   "metadata": {},
   "source": [
    "## 2. API Response Analysis\n",
    "\n",
    "Now let's analyze the responses from different APIs and compare their performance across linguistic varieties and tasks.\n"
   ]
  },
  {
   "cell_type": "code",
   "execution_count": 10,
   "id": "d888653f",
   "metadata": {},
   "outputs": [
    {
     "name": "stdout",
     "output_type": "stream",
     "text": [
      "🔍 API Response Analysis\n",
      "==================================================\n",
      "\n",
      "📊 GEMINI Analysis:\n",
      "  Total responses: 12\n",
      "  Success rate: 100.0%\n",
      "  Avg response length: 1004.3 characters\n",
      "  Avg response words: 176.5 words\n",
      "\n",
      "📊 MISTRAL Analysis:\n",
      "  Total responses: 12\n",
      "  Success rate: 100.0%\n",
      "  Avg response length: 409.2 characters\n",
      "  Avg response words: 73.3 words\n",
      "\n",
      "📊 COHERE Analysis:\n",
      "  Total responses: 12\n",
      "  Success rate: 75.0%\n",
      "  Avg response length: 315.7 characters\n",
      "  Avg response words: 38.2 words\n"
     ]
    }
   ],
   "source": [
    "# API Response Analysis Function\n",
    "def analyze_api_responses(api_name, df):\n",
    "    \"\"\"\n",
    "    Analyze API responses and return key metrics\n",
    "    \"\"\"\n",
    "    if df is None or df.empty:\n",
    "        return None\n",
    "    \n",
    "    # Calculate response metrics\n",
    "    df['response_length'] = df['output_text'].str.len()\n",
    "    df['response_words'] = df['output_text'].str.split().str.len()\n",
    "    \n",
    "    # Check for errors\n",
    "    error_count = df['output_text'].str.contains('ERROR:', na=False).sum()\n",
    "    \n",
    "    return {\n",
    "        'api': api_name,\n",
    "        'total_responses': len(df),\n",
    "        'error_count': error_count,\n",
    "        'success_rate': (len(df) - error_count) / len(df) * 100,\n",
    "        'avg_response_length': df['response_length'].mean(),\n",
    "        'avg_response_words': df['response_words'].mean(),\n",
    "        'variety_distribution': df['variety'].value_counts().to_dict(),\n",
    "        'task_distribution': df['task'].value_counts().to_dict()\n",
    "    }\n",
    "\n",
    "# Analyze all available API responses\n",
    "print(\"🔍 API Response Analysis\")\n",
    "print(\"=\" * 50)\n",
    "\n",
    "api_metrics = {}\n",
    "for api_name, df in api_responses.items():\n",
    "    metrics = analyze_api_responses(api_name, df)\n",
    "    if metrics:\n",
    "        api_metrics[api_name] = metrics\n",
    "        print(f\"\\n📊 {api_name.upper()} Analysis:\")\n",
    "        print(f\"  Total responses: {metrics['total_responses']}\")\n",
    "        print(f\"  Success rate: {metrics['success_rate']:.1f}%\")\n",
    "        print(f\"  Avg response length: {metrics['avg_response_length']:.1f} characters\")\n",
    "        print(f\"  Avg response words: {metrics['avg_response_words']:.1f} words\")\n",
    "\n",
    "if not api_metrics:\n",
    "    print(\"⚠️  No API response data available yet. Run data collection notebooks first.\")\n"
   ]
  },
  {
   "cell_type": "code",
   "execution_count": 11,
   "id": "ea5cd10b",
   "metadata": {},
   "outputs": [
    {
     "name": "stdout",
     "output_type": "stream",
     "text": [
      "\n",
      "📈 Creating Performance Comparison Visualizations...\n"
     ]
    },
    {
     "data": {
      "image/png": "[encoded data removed]",
      "text/plain": [
       "<Figure size 1600x1200 with 4 Axes>"
      ]
     },
     "metadata": {},
     "output_type": "display_data"
    },
    {
     "name": "stdout",
     "output_type": "stream",
     "text": [
      "\n",
      "📊 API Performance Summary:\n",
      "    API  Success Rate (%)  Avg Response Length  Avg Response Words  Total Responses\n",
      " Gemini             100.0          1004.333333          176.500000               12\n",
      "Mistral             100.0           409.250000           73.333333               12\n",
      " Cohere              75.0           315.666667           38.166667               12\n"
     ]
    }
   ],
   "source": [
    "# Performance Comparison Visualization\n",
    "if api_metrics:\n",
    "    print(\"\\n📈 Creating Performance Comparison Visualizations...\")\n",
    "    \n",
    "    # Create comparison DataFrame\n",
    "    comparison_data = []\n",
    "    for api, metrics in api_metrics.items():\n",
    "        comparison_data.append({\n",
    "            'API': api.title(),\n",
    "            'Success Rate (%)': metrics['success_rate'],\n",
    "            'Avg Response Length': metrics['avg_response_length'],\n",
    "            'Avg Response Words': metrics['avg_response_words'],\n",
    "            'Total Responses': metrics['total_responses']\n",
    "        })\n",
    "    \n",
    "    comparison_df = pd.DataFrame(comparison_data)\n",
    "    \n",
    "    # Create subplots for comparison\n",
    "    fig, axes = plt.subplots(2, 2, figsize=(16, 12))\n",
    "    fig.suptitle('API Performance Comparison', fontsize=16, fontweight='bold')\n",
    "    \n",
    "    # 1. Success Rate Comparison\n",
    "    axes[0, 0].bar(comparison_df['API'], comparison_df['Success Rate (%)'], \n",
    "                   color=['#FF6B6B', '#4ECDC4', '#45B7D1', '#96CEB4'])\n",
    "    axes[0, 0].set_title('Success Rate by API')\n",
    "    axes[0, 0].set_ylabel('Success Rate (%)')\n",
    "    axes[0, 0].set_ylim(0, 100)\n",
    "    \n",
    "    # 2. Response Length Comparison\n",
    "    axes[0, 1].bar(comparison_df['API'], comparison_df['Avg Response Length'], \n",
    "                   color=['#FF6B6B', '#4ECDC4', '#45B7D1', '#96CEB4'])\n",
    "    axes[0, 1].set_title('Average Response Length')\n",
    "    axes[0, 1].set_ylabel('Characters')\n",
    "    \n",
    "    # 3. Response Word Count\n",
    "    axes[1, 0].bar(comparison_df['API'], comparison_df['Avg Response Words'], \n",
    "                   color=['#FF6B6B', '#4ECDC4', '#45B7D1', '#96CEB4'])\n",
    "    axes[1, 0].set_title('Average Response Word Count')\n",
    "    axes[1, 0].set_ylabel('Words')\n",
    "    \n",
    "    # 4. Total Responses\n",
    "    axes[1, 1].bar(comparison_df['API'], comparison_df['Total Responses'], \n",
    "                   color=['#FF6B6B', '#4ECDC4', '#45B7D1', '#96CEB4'])\n",
    "    axes[1, 1].set_title('Total Responses Collected')\n",
    "    axes[1, 1].set_ylabel('Count')\n",
    "    \n",
    "    plt.tight_layout()\n",
    "    plt.show()\n",
    "    \n",
    "    # Display comparison table\n",
    "    print(\"\\n📊 API Performance Summary:\")\n",
    "    print(comparison_df.to_string(index=False))\n",
    "else:\n",
    "    print(\"⚠️  No API data available for comparison. Run data collection first.\")\n"
   ]
  },
  {
   "cell_type": "markdown",
   "id": "2c836f78-f453-4a56-bf02-e66851c3dff9",
   "metadata": {},
   "source": [
    "**Interpretation:**\n",
    "Across the four panels, Gemini and Mistral show higher success rates, while Cohere is lower, which means Gemini/Mistral are less likely to time out or return empty/invalid outputs. Gemini’s average response length (both characters and words) is much higher than the other two, indicating more verbose answers; this can be useful for explanations but will raise latency and cost unless we cap length. Mistral and Cohere produce shorter outputs; that helps speed and cost, but on tasks that require multi-step reasoning or detailed justification, they may need stronger prompts (e.g., brief step plans) to avoid missing details. Finally, total responses collected is the same for all three, so comparisons are not skewed by unequal sample sizes. For the project’s goals, the figures suggest using Gemini when completeness matters, Mistral when we want concise, structured outputs with templates, and Cohere for short summaries or labels—with added scaffolding if the task needs depth."
   ]
  },
  {
   "cell_type": "markdown",
   "id": "bb989775",
   "metadata": {},
   "source": [
    "## 3. Linguistic Analysis & Code-Switching Patterns\n",
    "\n",
    "Let's dive deeper into the linguistic patterns and code-switching behavior across different varieties and tasks.\n"
   ]
  },
  {
   "cell_type": "code",
   "execution_count": 12,
   "id": "f0e14f68",
   "metadata": {},
   "outputs": [
    {
     "name": "stdout",
     "output_type": "stream",
     "text": [
      "🔍 Linguistic Feature Analysis\n",
      "==================================================\n",
      "📊 Linguistic Features by Variety:\n",
      "           words        uppercase_ratio        punctuation_ratio         \\\n",
      "            mean    std            mean    std              mean    std   \n",
      "variety                                                                   \n",
      "AAVE       6.667  1.155           0.038  0.012             0.029  0.027   \n",
      "BrEng      8.667  1.155           0.024  0.004             0.045  0.017   \n",
      "Spanglish  8.333  0.577           0.034  0.013             0.051  0.004   \n",
      "StdEng     7.667  1.528           0.035  0.013             0.035  0.013   \n",
      "\n",
      "          has_spanish has_french has_arabic_patterns  \n",
      "                  sum        sum                 sum  \n",
      "variety                                               \n",
      "AAVE                1          1                   3  \n",
      "BrEng               1          1                   3  \n",
      "Spanglish           3          2                   3  \n",
      "StdEng              2          1                   3  \n"
     ]
    }
   ],
   "source": [
    "# Linguistic Analysis Functions\n",
    "def extract_linguistic_features(text):\n",
    "    \"\"\"\n",
    "    Extract linguistic features from text for analysis\n",
    "    \"\"\"\n",
    "    if pd.isna(text):\n",
    "        return {}\n",
    "    \n",
    "    # Basic features\n",
    "    features = {\n",
    "        'length': len(text),\n",
    "        'words': len(text.split()),\n",
    "        'sentences': len(text.split('.')),\n",
    "        'uppercase_ratio': sum(1 for c in text if c.isupper()) / len(text) if text else 0,\n",
    "        'digit_ratio': sum(1 for c in text if c.isdigit()) / len(text) if text else 0,\n",
    "        'punctuation_ratio': sum(1 for c in text if c in '.,!?;:') / len(text) if text else 0\n",
    "    }\n",
    "    \n",
    "    # Language-specific patterns (basic detection)\n",
    "    features['has_spanish'] = any(word in text.lower() for word in ['el', 'la', 'de', 'que', 'en', 'un', 'una', 'con', 'por', 'para'])\n",
    "    features['has_french'] = any(word in text.lower() for word in ['le', 'la', 'de', 'et', 'du', 'des', 'que', 'dans', 'sur'])\n",
    "    features['has_arabic_patterns'] = any(char in text for char in 'ا ب ت ث ج ح خ د ذ ر ز س ش ص ض ط ظ ع غ ف ق ك ل م ن ه و ي ء')\n",
    "    \n",
    "    return features\n",
    "\n",
    "# Analyze linguistic features across varieties\n",
    "print(\"🔍 Linguistic Feature Analysis\")\n",
    "print(\"=\" * 50)\n",
    "\n",
    "# Apply linguistic analysis to stimuli\n",
    "linguistic_features = []\n",
    "for idx, row in stimuli.iterrows():\n",
    "    features = extract_linguistic_features(row['text'])\n",
    "    features.update({\n",
    "        'id': row['id'],\n",
    "        'variety': row['variety'],\n",
    "        'task': row['task']\n",
    "    })\n",
    "    linguistic_features.append(features)\n",
    "\n",
    "features_df = pd.DataFrame(linguistic_features)\n",
    "\n",
    "# Display summary statistics by variety\n",
    "print(\"📊 Linguistic Features by Variety:\")\n",
    "variety_stats = features_df.groupby('variety').agg({\n",
    "    'words': ['mean', 'std'],\n",
    "    'uppercase_ratio': ['mean', 'std'],\n",
    "    'punctuation_ratio': ['mean', 'std'],\n",
    "    'has_spanish': 'sum',\n",
    "    'has_french': 'sum',\n",
    "    'has_arabic_patterns': 'sum'\n",
    "}).round(3)\n",
    "\n",
    "print(variety_stats)\n"
   ]
  },
  {
   "cell_type": "markdown",
   "id": "8f5d3df7-efbb-4deb-9c29-101fee88b4a3",
   "metadata": {},
   "source": [
    "**Interpretation:**\n",
    "This table summarizes simple surface features by variety. Average word count is broadly similar, with BrEng slightly higher (≈8.7 words) and AAVE lower (≈6.7); variability is small overall, with Spanglish the most consistent and StdEng a bit more spread. Uppercase ratio is low for all groups (≈2–4%), lowest in BrEng and slightly higher in AAVE/StdEng, suggesting similar casing conventions across varieties. Punctuation ratio is also low but shows a small gradient: Spanglish uses slightly more punctuation on average, AAVE slightly less. The language flags behave as expected—Spanglish has the most Spanish markers, while French markers appear sparsely across varieties. The Arabic-pattern flag is constant across groups, so it does not help separate varieties in this sample. Overall, these features indicate that prompts are comparable in length and formatting across varieties; any quality differences we observe later are unlikely to be driven by large surface-format gaps, though we should note the minor punctuation/casing differences and the small sample size."
   ]
  },
  {
   "cell_type": "markdown",
   "id": "9ae2df19",
   "metadata": {},
   "source": [
    "## 4. Advanced Visualizations & Creative Analysis\n",
    "\n",
    "Now let's create some really creative and insightful visualizations that go beyond basic charts. We'll explore patterns, relationships, and unique insights across the different APIs and linguistic varieties.\n"
   ]
  },
  {
   "cell_type": "code",
   "execution_count": 13,
   "id": "de2beedb",
   "metadata": {},
   "outputs": [
    {
     "data": {
      "image/png": "[encoded data removed]",
      "text/plain": [
       "<Figure size 1200x800 with 2 Axes>"
      ]
     },
     "metadata": {},
     "output_type": "display_data"
    }
   ],
   "source": [
    "# API Performance Heatmap\n",
    "if api_metrics:\n",
    "    # Create performance data\n",
    "    performance_data = []\n",
    "    for api, metrics in api_metrics.items():\n",
    "        performance_data.append({\n",
    "            'API': api.title(),\n",
    "            'Success Rate': metrics['success_rate'],\n",
    "            'Avg Response Length': metrics['avg_response_length'],\n",
    "            'Avg Response Words': metrics['avg_response_words'],\n",
    "            'Total Responses': metrics['total_responses']\n",
    "        })\n",
    "    \n",
    "    perf_df = pd.DataFrame(performance_data)\n",
    "    \n",
    "    # Normalize data for heatmap\n",
    "    from sklearn.preprocessing import MinMaxScaler\n",
    "    scaler = MinMaxScaler()\n",
    "    \n",
    "    numeric_cols = ['Success Rate', 'Avg Response Length', 'Avg Response Words', 'Total Responses']\n",
    "    heatmap_data = perf_df[numeric_cols].copy()\n",
    "    \n",
    "    # Scale to 0-1\n",
    "    heatmap_data_scaled = pd.DataFrame(\n",
    "        scaler.fit_transform(heatmap_data),\n",
    "        columns=numeric_cols,\n",
    "        index=perf_df['API']\n",
    "    )\n",
    "    \n",
    "    # Create heatmap\n",
    "    plt.figure(figsize=(12, 8))\n",
    "    sns.heatmap(\n",
    "        heatmap_data_scaled.T, \n",
    "        annot=True, \n",
    "        cmap='RdYlBu_r',\n",
    "        cbar_kws={'label': 'Performance Score'},\n",
    "        fmt='.2f'\n",
    "    )\n",
    "    \n",
    "    plt.title('API Performance Heatmap', fontsize=16, fontweight='bold')\n",
    "    plt.xlabel('APIs')\n",
    "    plt.ylabel('Metrics')\n",
    "    plt.xticks(rotation=45)\n",
    "    plt.tight_layout()\n",
    "    plt.show()\n",
    "else:\n",
    "    print(\"No API data available\")\n"
   ]
  },
  {
   "cell_type": "markdown",
   "id": "9f94aa7e-e2d9-498a-9ea5-c01845b1296f",
   "metadata": {},
   "source": [
    "**Interpretation:**\n",
    "This heatmap shows relative performance (scaled 0–1 within each metric) for three systems across four metrics. On success rate, Gemini and Mistral both score at the top (1.00), while Cohere is lowest (0.00), indicating more incomplete/invalid replies from Cohere in this sample. For average response length (characters) and average response words, Gemini ranks highest, Mistral is mid-range (≈0.14–0.25 on the normalized scale), and Cohere is lowest. Longer outputs are not automatically “better,” but they usually reflect fuller explanations; if brevity is preferred, Mistral and Cohere will need prompt cues to include required details. The total responses row appears at 0.00 for all three, which happens because the counts are equal across APIs; with min–max scaling, equal values collapse to the same normalized score. Overall, the heatmap says: Gemini and Mistral are similarly reliable (high success), Gemini is the most verbose, Mistral is more concise, and Cohere trails on both reliability and length here. Given the small dataset, treat these as directional results and confirm on a larger run."
   ]
  },
  {
   "cell_type": "code",
   "execution_count": 14,
   "id": "8df4e4d4",
   "metadata": {},
   "outputs": [
    {
     "data": {
      "application/vnd.plotly.v1+json": {
       "config": {
        "plotlyServerURL": "https://plot.ly"
       },
       "data": [
        {
         "hovertemplate": "<b>%{hovertext}</b><br><br>Success Rate=%{x}<br>Avg Response Length=%{y}<br>Total Responses=%{marker.size}<br>Avg Response Words=%{marker.color}<extra></extra>",
         "hovertext": [
          "Gemini",
          "Mistral",
          "Cohere"
         ],
         "legendgroup": "",
         "marker": {
          "color": {
           "bdata": "AAAAAAAQZkBVVVVVVVVSQFVVVVVVFUNA",
           "dtype": "f8"
          },
          "coloraxis": "coloraxis",
          "size": {
           "bdata": "DAwM",
           "dtype": "i1"
          },
          "sizemode": "area",
          "sizeref": 0.0048,
          "symbol": "circle"
         },
         "mode": "markers",
         "name": "",
         "orientation": "v",
         "showlegend": false,
         "type": "scatter",
         "x": {
          "bdata": "AAAAAAAAWUAAAAAAAABZQAAAAAAAwFJA",
          "dtype": "f8"
         },
         "xaxis": "x",
         "y": {
          "bdata": "q6qqqqpij0AAAAAAAJR5QKuqqqqqunNA",
          "dtype": "f8"
         },
         "yaxis": "y"
        }
       ],
       "layout": {
        "coloraxis": {
         "colorbar": {
          "title": {
           "text": "Avg Response Words"
          }
         },
         "colorscale": [
          [
           0,
           "#440154"
          ],
          [
           0.1111111111111111,
           "#482878"
          ],
          [
           0.2222222222222222,
           "#3e4989"
          ],
          [
           0.3333333333333333,
           "#31688e"
          ],
          [
           0.4444444444444444,
           "#26828e"
          ],
          [
           0.5555555555555556,
           "#1f9e89"
          ],
          [
           0.6666666666666666,
           "#35b779"
          ],
          [
           0.7777777777777778,
           "#6ece58"
          ],
          [
           0.8888888888888888,
           "#b5de2b"
          ],
          [
           1,
           "#fde725"
          ]
         ]
        },
        "height": 600,
        "legend": {
         "itemsizing": "constant",
         "tracegroupgap": 0
        },
        "template": {
         "data": {
          "bar": [
           {
            "error_x": {
             "color": "#2a3f5f"
            },
            "error_y": {
             "color": "#2a3f5f"
            },
            "marker": {
             "line": {
              "color": "#E5ECF6",
              "width": 0.5
             },
             "pattern": {
              "fillmode": "overlay",
              "size": 10,
              "solidity": 0.2
             }
            },
            "type": "bar"
           }
          ],
          "barpolar": [
           {
            "marker": {
             "line": {
              "color": "#E5ECF6",
              "width": 0.5
             },
             "pattern": {
              "fillmode": "overlay",
              "size": 10,
              "solidity": 0.2
             }
            },
            "type": "barpolar"
           }
          ],
          "carpet": [
           {
            "aaxis": {
             "endlinecolor": "#2a3f5f",
             "gridcolor": "white",
             "linecolor": "white",
             "minorgridcolor": "white",
             "startlinecolor": "#2a3f5f"
            },
            "baxis": {
             "endlinecolor": "#2a3f5f",
             "gridcolor": "white",
             "linecolor": "white",
             "minorgridcolor": "white",
             "startlinecolor": "#2a3f5f"
            },
            "type": "carpet"
           }
          ],
          "choropleth": [
           {
            "colorbar": {
             "outlinewidth": 0,
             "ticks": ""
            },
            "type": "choropleth"
           }
          ],
          "contour": [
           {
            "colorbar": {
             "outlinewidth": 0,
             "ticks": ""
            },
            "colorscale": [
             [
              0,
              "#0d0887"
             ],
             [
              0.1111111111111111,
              "#46039f"
             ],
             [
              0.2222222222222222,
              "#7201a8"
             ],
             [
              0.3333333333333333,
              "#9c179e"
             ],
             [
              0.4444444444444444,
              "#bd3786"
             ],
             [
              0.5555555555555556,
              "#d8576b"
             ],
             [
              0.6666666666666666,
              "#ed7953"
             ],
             [
              0.7777777777777778,
              "#fb9f3a"
             ],
             [
              0.8888888888888888,
              "#fdca26"
             ],
             [
              1,
              "#f0f921"
             ]
            ],
            "type": "contour"
           }
          ],
          "contourcarpet": [
           {
            "colorbar": {
             "outlinewidth": 0,
             "ticks": ""
            },
            "type": "contourcarpet"
           }
          ],
          "heatmap": [
           {
            "colorbar": {
             "outlinewidth": 0,
             "ticks": ""
            },
            "colorscale": [
             [
              0,
              "#0d0887"
             ],
             [
              0.1111111111111111,
              "#46039f"
             ],
             [
              0.2222222222222222,
              "#7201a8"
             ],
             [
              0.3333333333333333,
              "#9c179e"
             ],
             [
              0.4444444444444444,
              "#bd3786"
             ],
             [
              0.5555555555555556,
              "#d8576b"
             ],
             [
              0.6666666666666666,
              "#ed7953"
             ],
             [
              0.7777777777777778,
              "#fb9f3a"
             ],
             [
              0.8888888888888888,
              "#fdca26"
             ],
             [
              1,
              "#f0f921"
             ]
            ],
            "type": "heatmap"
           }
          ],
          "histogram": [
           {
            "marker": {
             "pattern": {
              "fillmode": "overlay",
              "size": 10,
              "solidity": 0.2
             }
            },
            "type": "histogram"
           }
          ],
          "histogram2d": [
           {
            "colorbar": {
             "outlinewidth": 0,
             "ticks": ""
            },
            "colorscale": [
             [
              0,
              "#0d0887"
             ],
             [
              0.1111111111111111,
              "#46039f"
             ],
             [
              0.2222222222222222,
              "#7201a8"
             ],
             [
              0.3333333333333333,
              "#9c179e"
             ],
             [
              0.4444444444444444,
              "#bd3786"
             ],
             [
              0.5555555555555556,
              "#d8576b"
             ],
             [
              0.6666666666666666,
              "#ed7953"
             ],
             [
              0.7777777777777778,
              "#fb9f3a"
             ],
             [
              0.8888888888888888,
              "#fdca26"
             ],
             [
              1,
              "#f0f921"
             ]
            ],
            "type": "histogram2d"
           }
          ],
          "histogram2dcontour": [
           {
            "colorbar": {
             "outlinewidth": 0,
             "ticks": ""
            },
            "colorscale": [
             [
              0,
              "#0d0887"
             ],
             [
              0.1111111111111111,
              "#46039f"
             ],
             [
              0.2222222222222222,
              "#7201a8"
             ],
             [
              0.3333333333333333,
              "#9c179e"
             ],
             [
              0.4444444444444444,
              "#bd3786"
             ],
             [
              0.5555555555555556,
              "#d8576b"
             ],
             [
              0.6666666666666666,
              "#ed7953"
             ],
             [
              0.7777777777777778,
              "#fb9f3a"
             ],
             [
              0.8888888888888888,
              "#fdca26"
             ],
             [
              1,
              "#f0f921"
             ]
            ],
            "type": "histogram2dcontour"
           }
          ],
          "mesh3d": [
           {
            "colorbar": {
             "outlinewidth": 0,
             "ticks": ""
            },
            "type": "mesh3d"
           }
          ],
          "parcoords": [
           {
            "line": {
             "colorbar": {
              "outlinewidth": 0,
              "ticks": ""
             }
            },
            "type": "parcoords"
           }
          ],
          "pie": [
           {
            "automargin": true,
            "type": "pie"
           }
          ],
          "scatter": [
           {
            "fillpattern": {
             "fillmode": "overlay",
             "size": 10,
             "solidity": 0.2
            },
            "type": "scatter"
           }
          ],
          "scatter3d": [
           {
            "line": {
             "colorbar": {
              "outlinewidth": 0,
              "ticks": ""
             }
            },
            "marker": {
             "colorbar": {
              "outlinewidth": 0,
              "ticks": ""
             }
            },
            "type": "scatter3d"
           }
          ],
          "scattercarpet": [
           {
            "marker": {
             "colorbar": {
              "outlinewidth": 0,
              "ticks": ""
             }
            },
            "type": "scattercarpet"
           }
          ],
          "scattergeo": [
           {
            "marker": {
             "colorbar": {
              "outlinewidth": 0,
              "ticks": ""
             }
            },
            "type": "scattergeo"
           }
          ],
          "scattergl": [
           {
            "marker": {
             "colorbar": {
              "outlinewidth": 0,
              "ticks": ""
             }
            },
            "type": "scattergl"
           }
          ],
          "scattermap": [
           {
            "marker": {
             "colorbar": {
              "outlinewidth": 0,
              "ticks": ""
             }
            },
            "type": "scattermap"
           }
          ],
          "scattermapbox": [
           {
            "marker": {
             "colorbar": {
              "outlinewidth": 0,
              "ticks": ""
             }
            },
            "type": "scattermapbox"
           }
          ],
          "scatterpolar": [
           {
            "marker": {
             "colorbar": {
              "outlinewidth": 0,
              "ticks": ""
             }
            },
            "type": "scatterpolar"
           }
          ],
          "scatterpolargl": [
           {
            "marker": {
             "colorbar": {
              "outlinewidth": 0,
              "ticks": ""
             }
            },
            "type": "scatterpolargl"
           }
          ],
          "scatterternary": [
           {
            "marker": {
             "colorbar": {
              "outlinewidth": 0,
              "ticks": ""
             }
            },
            "type": "scatterternary"
           }
          ],
          "surface": [
           {
            "colorbar": {
             "outlinewidth": 0,
             "ticks": ""
            },
            "colorscale": [
             [
              0,
              "#0d0887"
             ],
             [
              0.1111111111111111,
              "#46039f"
             ],
             [
              0.2222222222222222,
              "#7201a8"
             ],
             [
              0.3333333333333333,
              "#9c179e"
             ],
             [
              0.4444444444444444,
              "#bd3786"
             ],
             [
              0.5555555555555556,
              "#d8576b"
             ],
             [
              0.6666666666666666,
              "#ed7953"
             ],
             [
              0.7777777777777778,
              "#fb9f3a"
             ],
             [
              0.8888888888888888,
              "#fdca26"
             ],
             [
              1,
              "#f0f921"
             ]
            ],
            "type": "surface"
           }
          ],
          "table": [
           {
            "cells": {
             "fill": {
              "color": "#EBF0F8"
             },
             "line": {
              "color": "white"
             }
            },
            "header": {
             "fill": {
              "color": "#C8D4E3"
             },
             "line": {
              "color": "white"
             }
            },
            "type": "table"
           }
          ]
         },
         "layout": {
          "annotationdefaults": {
           "arrowcolor": "#2a3f5f",
           "arrowhead": 0,
           "arrowwidth": 1
          },
          "autotypenumbers": "strict",
          "coloraxis": {
           "colorbar": {
            "outlinewidth": 0,
            "ticks": ""
           }
          },
          "colorscale": {
           "diverging": [
            [
             0,
             "#8e0152"
            ],
            [
             0.1,
             "#c51b7d"
            ],
            [
             0.2,
             "#de77ae"
            ],
            [
             0.3,
             "#f1b6da"
            ],
            [
             0.4,
             "#fde0ef"
            ],
            [
             0.5,
             "#f7f7f7"
            ],
            [
             0.6,
             "#e6f5d0"
            ],
            [
             0.7,
             "#b8e186"
            ],
            [
             0.8,
             "#7fbc41"
            ],
            [
             0.9,
             "#4d9221"
            ],
            [
             1,
             "#276419"
            ]
           ],
           "sequential": [
            [
             0,
             "#0d0887"
            ],
            [
             0.1111111111111111,
             "#46039f"
            ],
            [
             0.2222222222222222,
             "#7201a8"
            ],
            [
             0.3333333333333333,
             "#9c179e"
            ],
            [
             0.4444444444444444,
             "#bd3786"
            ],
            [
             0.5555555555555556,
             "#d8576b"
            ],
            [
             0.6666666666666666,
             "#ed7953"
            ],
            [
             0.7777777777777778,
             "#fb9f3a"
            ],
            [
             0.8888888888888888,
             "#fdca26"
            ],
            [
             1,
             "#f0f921"
            ]
           ],
           "sequentialminus": [
            [
             0,
             "#0d0887"
            ],
            [
             0.1111111111111111,
             "#46039f"
            ],
            [
             0.2222222222222222,
             "#7201a8"
            ],
            [
             0.3333333333333333,
             "#9c179e"
            ],
            [
             0.4444444444444444,
             "#bd3786"
            ],
            [
             0.5555555555555556,
             "#d8576b"
            ],
            [
             0.6666666666666666,
             "#ed7953"
            ],
            [
             0.7777777777777778,
             "#fb9f3a"
            ],
            [
             0.8888888888888888,
             "#fdca26"
            ],
            [
             1,
             "#f0f921"
            ]
           ]
          },
          "colorway": [
           "#636efa",
           "#EF553B",
           "#00cc96",
           "#ab63fa",
           "#FFA15A",
           "#19d3f3",
           "#FF6692",
           "#B6E880",
           "#FF97FF",
           "#FECB52"
          ],
          "font": {
           "color": "#2a3f5f"
          },
          "geo": {
           "bgcolor": "white",
           "lakecolor": "white",
           "landcolor": "#E5ECF6",
           "showlakes": true,
           "showland": true,
           "subunitcolor": "white"
          },
          "hoverlabel": {
           "align": "left"
          },
          "hovermode": "closest",
          "mapbox": {
           "style": "light"
          },
          "paper_bgcolor": "white",
          "plot_bgcolor": "#E5ECF6",
          "polar": {
           "angularaxis": {
            "gridcolor": "white",
            "linecolor": "white",
            "ticks": ""
           },
           "bgcolor": "#E5ECF6",
           "radialaxis": {
            "gridcolor": "white",
            "linecolor": "white",
            "ticks": ""
           }
          },
          "scene": {
           "xaxis": {
            "backgroundcolor": "#E5ECF6",
            "gridcolor": "white",
            "gridwidth": 2,
            "linecolor": "white",
            "showbackground": true,
            "ticks": "",
            "zerolinecolor": "white"
           },
           "yaxis": {
            "backgroundcolor": "#E5ECF6",
            "gridcolor": "white",
            "gridwidth": 2,
            "linecolor": "white",
            "showbackground": true,
            "ticks": "",
            "zerolinecolor": "white"
           },
           "zaxis": {
            "backgroundcolor": "#E5ECF6",
            "gridcolor": "white",
            "gridwidth": 2,
            "linecolor": "white",
            "showbackground": true,
            "ticks": "",
            "zerolinecolor": "white"
           }
          },
          "shapedefaults": {
           "line": {
            "color": "#2a3f5f"
           }
          },
          "ternary": {
           "aaxis": {
            "gridcolor": "white",
            "linecolor": "white",
            "ticks": ""
           },
           "baxis": {
            "gridcolor": "white",
            "linecolor": "white",
            "ticks": ""
           },
           "bgcolor": "#E5ECF6",
           "caxis": {
            "gridcolor": "white",
            "linecolor": "white",
            "ticks": ""
           }
          },
          "title": {
           "x": 0.05
          },
          "xaxis": {
           "automargin": true,
           "gridcolor": "white",
           "linecolor": "white",
           "ticks": "",
           "title": {
            "standoff": 15
           },
           "zerolinecolor": "white",
           "zerolinewidth": 2
          },
          "yaxis": {
           "automargin": true,
           "gridcolor": "white",
           "linecolor": "white",
           "ticks": "",
           "title": {
            "standoff": 15
           },
           "zerolinecolor": "white",
           "zerolinewidth": 2
          }
         }
        },
        "title": {
         "text": "API Performance Bubble Chart"
        },
        "width": 900,
        "xaxis": {
         "anchor": "y",
         "domain": [
          0,
          1
         ],
         "title": {
          "text": "Success Rate"
         }
        },
        "yaxis": {
         "anchor": "x",
         "domain": [
          0,
          1
         ],
         "title": {
          "text": "Avg Response Length"
         }
        }
       }
      }
     },
     "metadata": {},
     "output_type": "display_data"
    }
   ],
   "source": [
    "# Interactive Bubble Chart\n",
    "if api_metrics:\n",
    "    # Prepare data\n",
    "    bubble_data = []\n",
    "    for api, metrics in api_metrics.items():\n",
    "        bubble_data.append({\n",
    "            'API': api.title(),\n",
    "            'Success Rate': metrics['success_rate'],\n",
    "            'Avg Response Length': metrics['avg_response_length'],\n",
    "            'Total Responses': metrics['total_responses'],\n",
    "            'Avg Response Words': metrics['avg_response_words']\n",
    "        })\n",
    "    \n",
    "    bubble_df = pd.DataFrame(bubble_data)\n",
    "    \n",
    "    # Create bubble chart\n",
    "    fig = px.scatter(\n",
    "        bubble_df, \n",
    "        x='Success Rate', \n",
    "        y='Avg Response Length',\n",
    "        size='Total Responses',\n",
    "        color='Avg Response Words',\n",
    "        hover_name='API',\n",
    "        title='API Performance Bubble Chart',\n",
    "        color_continuous_scale='Viridis',\n",
    "        size_max=50\n",
    "    )\n",
    "    \n",
    "    fig.update_layout(width=900, height=600)\n",
    "    fig.show()\n",
    "else:\n",
    "    print(\"No API data available\")\n"
   ]
  },
  {
   "cell_type": "markdown",
   "id": "e0466d30-d020-4973-a5eb-b46acaee6257",
   "metadata": {},
   "source": [
    "**interpretation:**\n",
    "This chart plots success rate (x-axis) against average response length in characters (y-axis); the color encodes average words. Two systems cluster at about 100% success: one produces the longest responses (≈1000 chars, high word count—Gemini), and the other is shorter (≈400 chars, mid word count—Mistral). The third system sits lower on success (~75%) and also gives the shortest responses (≈300 chars, low word count—Cohere). In practical terms, Gemini tends to return fuller explanations but at higher cost/latency, Mistral is reliable while being more concise, and Cohere is brief but shows more incomplete/invalid outputs in this sample. Choice should match the task: use Gemini when detail is required, Mistral when you want concise, structured output, and Cohere for short summaries only with tighter prompting to avoid missing content."
   ]
  },
  {
   "cell_type": "code",
   "execution_count": 15,
   "id": "ab614730",
   "metadata": {},
   "outputs": [
    {
     "name": "stdout",
     "output_type": "stream",
     "text": [
      "🎨 Creating Radar Chart for API Capabilities...\n"
     ]
    },
    {
     "data": {
      "application/vnd.plotly.v1+json": {
       "config": {
        "plotlyServerURL": "https://plot.ly"
       },
       "data": [
        {
         "fill": "toself",
         "fillcolor": "#FF6B6B",
         "line": {
          "color": "#FF6B6B"
         },
         "name": "Gemini",
         "opacity": 0.3,
         "r": [
          100,
          10.043333333333333,
          100,
          24,
          100
         ],
         "theta": [
          "Success Rate",
          "Response Length",
          "Word Count",
          "Volume",
          "Success Rate"
         ],
         "type": "scatterpolar"
        },
        {
         "fill": "toself",
         "fillcolor": "#4ECDC4",
         "line": {
          "color": "#4ECDC4"
         },
         "name": "Mistral",
         "opacity": 0.3,
         "r": [
          100,
          4.0925,
          100,
          24,
          100
         ],
         "theta": [
          "Success Rate",
          "Response Length",
          "Word Count",
          "Volume",
          "Success Rate"
         ],
         "type": "scatterpolar"
        },
        {
         "fill": "toself",
         "fillcolor": "#45B7D1",
         "line": {
          "color": "#45B7D1"
         },
         "name": "Cohere",
         "opacity": 0.3,
         "r": [
          75,
          3.1566666666666667,
          76.33333333333333,
          24,
          75
         ],
         "theta": [
          "Success Rate",
          "Response Length",
          "Word Count",
          "Volume",
          "Success Rate"
         ],
         "type": "scatterpolar"
        }
       ],
       "layout": {
        "font": {
         "size": 12
        },
        "height": 600,
        "polar": {
         "radialaxis": {
          "range": [
           0,
           100
          ],
          "visible": true
         }
        },
        "showlegend": true,
        "template": {
         "data": {
          "bar": [
           {
            "error_x": {
             "color": "#2a3f5f"
            },
            "error_y": {
             "color": "#2a3f5f"
            },
            "marker": {
             "line": {
              "color": "#E5ECF6",
              "width": 0.5
             },
             "pattern": {
              "fillmode": "overlay",
              "size": 10,
              "solidity": 0.2
             }
            },
            "type": "bar"
           }
          ],
          "barpolar": [
           {
            "marker": {
             "line": {
              "color": "#E5ECF6",
              "width": 0.5
             },
             "pattern": {
              "fillmode": "overlay",
              "size": 10,
              "solidity": 0.2
             }
            },
            "type": "barpolar"
           }
          ],
          "carpet": [
           {
            "aaxis": {
             "endlinecolor": "#2a3f5f",
             "gridcolor": "white",
             "linecolor": "white",
             "minorgridcolor": "white",
             "startlinecolor": "#2a3f5f"
            },
            "baxis": {
             "endlinecolor": "#2a3f5f",
             "gridcolor": "white",
             "linecolor": "white",
             "minorgridcolor": "white",
             "startlinecolor": "#2a3f5f"
            },
            "type": "carpet"
           }
          ],
          "choropleth": [
           {
            "colorbar": {
             "outlinewidth": 0,
             "ticks": ""
            },
            "type": "choropleth"
           }
          ],
          "contour": [
           {
            "colorbar": {
             "outlinewidth": 0,
             "ticks": ""
            },
            "colorscale": [
             [
              0,
              "#0d0887"
             ],
             [
              0.1111111111111111,
              "#46039f"
             ],
             [
              0.2222222222222222,
              "#7201a8"
             ],
             [
              0.3333333333333333,
              "#9c179e"
             ],
             [
              0.4444444444444444,
              "#bd3786"
             ],
             [
              0.5555555555555556,
              "#d8576b"
             ],
             [
              0.6666666666666666,
              "#ed7953"
             ],
             [
              0.7777777777777778,
              "#fb9f3a"
             ],
             [
              0.8888888888888888,
              "#fdca26"
             ],
             [
              1,
              "#f0f921"
             ]
            ],
            "type": "contour"
           }
          ],
          "contourcarpet": [
           {
            "colorbar": {
             "outlinewidth": 0,
             "ticks": ""
            },
            "type": "contourcarpet"
           }
          ],
          "heatmap": [
           {
            "colorbar": {
             "outlinewidth": 0,
             "ticks": ""
            },
            "colorscale": [
             [
              0,
              "#0d0887"
             ],
             [
              0.1111111111111111,
              "#46039f"
             ],
             [
              0.2222222222222222,
              "#7201a8"
             ],
             [
              0.3333333333333333,
              "#9c179e"
             ],
             [
              0.4444444444444444,
              "#bd3786"
             ],
             [
              0.5555555555555556,
              "#d8576b"
             ],
             [
              0.6666666666666666,
              "#ed7953"
             ],
             [
              0.7777777777777778,
              "#fb9f3a"
             ],
             [
              0.8888888888888888,
              "#fdca26"
             ],
             [
              1,
              "#f0f921"
             ]
            ],
            "type": "heatmap"
           }
          ],
          "histogram": [
           {
            "marker": {
             "pattern": {
              "fillmode": "overlay",
              "size": 10,
              "solidity": 0.2
             }
            },
            "type": "histogram"
           }
          ],
          "histogram2d": [
           {
            "colorbar": {
             "outlinewidth": 0,
             "ticks": ""
            },
            "colorscale": [
             [
              0,
              "#0d0887"
             ],
             [
              0.1111111111111111,
              "#46039f"
             ],
             [
              0.2222222222222222,
              "#7201a8"
             ],
             [
              0.3333333333333333,
              "#9c179e"
             ],
             [
              0.4444444444444444,
              "#bd3786"
             ],
             [
              0.5555555555555556,
              "#d8576b"
             ],
             [
              0.6666666666666666,
              "#ed7953"
             ],
             [
              0.7777777777777778,
              "#fb9f3a"
             ],
             [
              0.8888888888888888,
              "#fdca26"
             ],
             [
              1,
              "#f0f921"
             ]
            ],
            "type": "histogram2d"
           }
          ],
          "histogram2dcontour": [
           {
            "colorbar": {
             "outlinewidth": 0,
             "ticks": ""
            },
            "colorscale": [
             [
              0,
              "#0d0887"
             ],
             [
              0.1111111111111111,
              "#46039f"
             ],
             [
              0.2222222222222222,
              "#7201a8"
             ],
             [
              0.3333333333333333,
              "#9c179e"
             ],
             [
              0.4444444444444444,
              "#bd3786"
             ],
             [
              0.5555555555555556,
              "#d8576b"
             ],
             [
              0.6666666666666666,
              "#ed7953"
             ],
             [
              0.7777777777777778,
              "#fb9f3a"
             ],
             [
              0.8888888888888888,
              "#fdca26"
             ],
             [
              1,
              "#f0f921"
             ]
            ],
            "type": "histogram2dcontour"
           }
          ],
          "mesh3d": [
           {
            "colorbar": {
             "outlinewidth": 0,
             "ticks": ""
            },
            "type": "mesh3d"
           }
          ],
          "parcoords": [
           {
            "line": {
             "colorbar": {
              "outlinewidth": 0,
              "ticks": ""
             }
            },
            "type": "parcoords"
           }
          ],
          "pie": [
           {
            "automargin": true,
            "type": "pie"
           }
          ],
          "scatter": [
           {
            "fillpattern": {
             "fillmode": "overlay",
             "size": 10,
             "solidity": 0.2
            },
            "type": "scatter"
           }
          ],
          "scatter3d": [
           {
            "line": {
             "colorbar": {
              "outlinewidth": 0,
              "ticks": ""
             }
            },
            "marker": {
             "colorbar": {
              "outlinewidth": 0,
              "ticks": ""
             }
            },
            "type": "scatter3d"
           }
          ],
          "scattercarpet": [
           {
            "marker": {
             "colorbar": {
              "outlinewidth": 0,
              "ticks": ""
             }
            },
            "type": "scattercarpet"
           }
          ],
          "scattergeo": [
           {
            "marker": {
             "colorbar": {
              "outlinewidth": 0,
              "ticks": ""
             }
            },
            "type": "scattergeo"
           }
          ],
          "scattergl": [
           {
            "marker": {
             "colorbar": {
              "outlinewidth": 0,
              "ticks": ""
             }
            },
            "type": "scattergl"
           }
          ],
          "scattermap": [
           {
            "marker": {
             "colorbar": {
              "outlinewidth": 0,
              "ticks": ""
             }
            },
            "type": "scattermap"
           }
          ],
          "scattermapbox": [
           {
            "marker": {
             "colorbar": {
              "outlinewidth": 0,
              "ticks": ""
             }
            },
            "type": "scattermapbox"
           }
          ],
          "scatterpolar": [
           {
            "marker": {
             "colorbar": {
              "outlinewidth": 0,
              "ticks": ""
             }
            },
            "type": "scatterpolar"
           }
          ],
          "scatterpolargl": [
           {
            "marker": {
             "colorbar": {
              "outlinewidth": 0,
              "ticks": ""
             }
            },
            "type": "scatterpolargl"
           }
          ],
          "scatterternary": [
           {
            "marker": {
             "colorbar": {
              "outlinewidth": 0,
              "ticks": ""
             }
            },
            "type": "scatterternary"
           }
          ],
          "surface": [
           {
            "colorbar": {
             "outlinewidth": 0,
             "ticks": ""
            },
            "colorscale": [
             [
              0,
              "#0d0887"
             ],
             [
              0.1111111111111111,
              "#46039f"
             ],
             [
              0.2222222222222222,
              "#7201a8"
             ],
             [
              0.3333333333333333,
              "#9c179e"
             ],
             [
              0.4444444444444444,
              "#bd3786"
             ],
             [
              0.5555555555555556,
              "#d8576b"
             ],
             [
              0.6666666666666666,
              "#ed7953"
             ],
             [
              0.7777777777777778,
              "#fb9f3a"
             ],
             [
              0.8888888888888888,
              "#fdca26"
             ],
             [
              1,
              "#f0f921"
             ]
            ],
            "type": "surface"
           }
          ],
          "table": [
           {
            "cells": {
             "fill": {
              "color": "#EBF0F8"
             },
             "line": {
              "color": "white"
             }
            },
            "header": {
             "fill": {
              "color": "#C8D4E3"
             },
             "line": {
              "color": "white"
             }
            },
            "type": "table"
           }
          ]
         },
         "layout": {
          "annotationdefaults": {
           "arrowcolor": "#2a3f5f",
           "arrowhead": 0,
           "arrowwidth": 1
          },
          "autotypenumbers": "strict",
          "coloraxis": {
           "colorbar": {
            "outlinewidth": 0,
            "ticks": ""
           }
          },
          "colorscale": {
           "diverging": [
            [
             0,
             "#8e0152"
            ],
            [
             0.1,
             "#c51b7d"
            ],
            [
             0.2,
             "#de77ae"
            ],
            [
             0.3,
             "#f1b6da"
            ],
            [
             0.4,
             "#fde0ef"
            ],
            [
             0.5,
             "#f7f7f7"
            ],
            [
             0.6,
             "#e6f5d0"
            ],
            [
             0.7,
             "#b8e186"
            ],
            [
             0.8,
             "#7fbc41"
            ],
            [
             0.9,
             "#4d9221"
            ],
            [
             1,
             "#276419"
            ]
           ],
           "sequential": [
            [
             0,
             "#0d0887"
            ],
            [
             0.1111111111111111,
             "#46039f"
            ],
            [
             0.2222222222222222,
             "#7201a8"
            ],
            [
             0.3333333333333333,
             "#9c179e"
            ],
            [
             0.4444444444444444,
             "#bd3786"
            ],
            [
             0.5555555555555556,
             "#d8576b"
            ],
            [
             0.6666666666666666,
             "#ed7953"
            ],
            [
             0.7777777777777778,
             "#fb9f3a"
            ],
            [
             0.8888888888888888,
             "#fdca26"
            ],
            [
             1,
             "#f0f921"
            ]
           ],
           "sequentialminus": [
            [
             0,
             "#0d0887"
            ],
            [
             0.1111111111111111,
             "#46039f"
            ],
            [
             0.2222222222222222,
             "#7201a8"
            ],
            [
             0.3333333333333333,
             "#9c179e"
            ],
            [
             0.4444444444444444,
             "#bd3786"
            ],
            [
             0.5555555555555556,
             "#d8576b"
            ],
            [
             0.6666666666666666,
             "#ed7953"
            ],
            [
             0.7777777777777778,
             "#fb9f3a"
            ],
            [
             0.8888888888888888,
             "#fdca26"
            ],
            [
             1,
             "#f0f921"
            ]
           ]
          },
          "colorway": [
           "#636efa",
           "#EF553B",
           "#00cc96",
           "#ab63fa",
           "#FFA15A",
           "#19d3f3",
           "#FF6692",
           "#B6E880",
           "#FF97FF",
           "#FECB52"
          ],
          "font": {
           "color": "#2a3f5f"
          },
          "geo": {
           "bgcolor": "white",
           "lakecolor": "white",
           "landcolor": "#E5ECF6",
           "showlakes": true,
           "showland": true,
           "subunitcolor": "white"
          },
          "hoverlabel": {
           "align": "left"
          },
          "hovermode": "closest",
          "mapbox": {
           "style": "light"
          },
          "paper_bgcolor": "white",
          "plot_bgcolor": "#E5ECF6",
          "polar": {
           "angularaxis": {
            "gridcolor": "white",
            "linecolor": "white",
            "ticks": ""
           },
           "bgcolor": "#E5ECF6",
           "radialaxis": {
            "gridcolor": "white",
            "linecolor": "white",
            "ticks": ""
           }
          },
          "scene": {
           "xaxis": {
            "backgroundcolor": "#E5ECF6",
            "gridcolor": "white",
            "gridwidth": 2,
            "linecolor": "white",
            "showbackground": true,
            "ticks": "",
            "zerolinecolor": "white"
           },
           "yaxis": {
            "backgroundcolor": "#E5ECF6",
            "gridcolor": "white",
            "gridwidth": 2,
            "linecolor": "white",
            "showbackground": true,
            "ticks": "",
            "zerolinecolor": "white"
           },
           "zaxis": {
            "backgroundcolor": "#E5ECF6",
            "gridcolor": "white",
            "gridwidth": 2,
            "linecolor": "white",
            "showbackground": true,
            "ticks": "",
            "zerolinecolor": "white"
           }
          },
          "shapedefaults": {
           "line": {
            "color": "#2a3f5f"
           }
          },
          "ternary": {
           "aaxis": {
            "gridcolor": "white",
            "linecolor": "white",
            "ticks": ""
           },
           "baxis": {
            "gridcolor": "white",
            "linecolor": "white",
            "ticks": ""
           },
           "bgcolor": "#E5ECF6",
           "caxis": {
            "gridcolor": "white",
            "linecolor": "white",
            "ticks": ""
           }
          },
          "title": {
           "x": 0.05
          },
          "xaxis": {
           "automargin": true,
           "gridcolor": "white",
           "linecolor": "white",
           "ticks": "",
           "title": {
            "standoff": 15
           },
           "zerolinecolor": "white",
           "zerolinewidth": 2
          },
          "yaxis": {
           "automargin": true,
           "gridcolor": "white",
           "linecolor": "white",
           "ticks": "",
           "title": {
            "standoff": 15
           },
           "zerolinecolor": "white",
           "zerolinewidth": 2
          }
         }
        },
        "title": {
         "text": "🎯 API Capabilities Radar Chart"
        },
        "width": 800
       }
      }
     },
     "metadata": {},
     "output_type": "display_data"
    },
    {
     "name": "stdout",
     "output_type": "stream",
     "text": [
      "✅ Radar chart created!\n"
     ]
    }
   ],
   "source": [
    "# Creative Visualization 3: Radar Chart for API Capabilities\n",
    "print(\"🎨 Creating Radar Chart for API Capabilities...\")\n",
    "\n",
    "if api_metrics:\n",
    "    # Prepare data for radar chart\n",
    "    radar_data = {}\n",
    "    for api, metrics in api_metrics.items():\n",
    "        radar_data[api.title()] = [\n",
    "            metrics['success_rate'],\n",
    "            min(metrics['avg_response_length'] / 100, 100),  # Normalize length\n",
    "            min(metrics['avg_response_words'] * 2, 100),     # Normalize words\n",
    "            min(metrics['total_responses'] * 2, 100)         # Normalize total\n",
    "        ]\n",
    "    \n",
    "    # Define categories\n",
    "    categories = ['Success Rate', 'Response Length', 'Word Count', 'Volume']\n",
    "    \n",
    "    # Create radar chart\n",
    "    fig = go.Figure()\n",
    "    \n",
    "    colors = ['#FF6B6B', '#4ECDC4', '#45B7D1', '#96CEB4', '#FECA57']\n",
    "    \n",
    "    for i, (api, values) in enumerate(radar_data.items()):\n",
    "        fig.add_trace(go.Scatterpolar(\n",
    "            r=values + [values[0]],  # Close the radar chart\n",
    "            theta=categories + [categories[0]],\n",
    "            fill='toself',\n",
    "            name=api,\n",
    "            line_color=colors[i % len(colors)],\n",
    "            fillcolor=colors[i % len(colors)],\n",
    "            opacity=0.3\n",
    "        ))\n",
    "    \n",
    "    fig.update_layout(\n",
    "        polar=dict(\n",
    "            radialaxis=dict(\n",
    "                visible=True,\n",
    "                range=[0, 100]\n",
    "            )),\n",
    "        showlegend=True,\n",
    "        title=\"🎯 API Capabilities Radar Chart\",\n",
    "        font_size=12,\n",
    "        width=800,\n",
    "        height=600\n",
    "    )\n",
    "    \n",
    "    fig.show()\n",
    "    print(\"✅ Radar chart created!\")\n",
    "else:\n",
    "    print(\"⚠️  No API data available for radar chart\")\n"
   ]
  },
  {
   "cell_type": "markdown",
   "id": "86f344f4-d40b-45ae-a0bd-d99771ccab32",
   "metadata": {},
   "source": [
    "**Interpretation**\n",
    "The radar chart summarizes four simple metrics for each API: success rate, response length (characters), word count, and volume. Gemini and Mistral both sit near the outer edge on success rate, while Cohere is closer to the center, indicating more failed or incomplete replies in this sample. Gemini extends farther on response length and word count, meaning it tends to produce longer, more detailed answers; Mistral is more concise; Cohere is the shortest. Volume is similar for all systems because we collected the same number of responses per API. For the project, this suggests using Gemini when completeness and explanation detail matter, Mistral when shorter, structured outputs are preferred, and Cohere for brief summaries with stronger prompting if depth is required."
   ]
  },
  {
   "cell_type": "code",
   "execution_count": 16,
   "id": "82581fee",
   "metadata": {},
   "outputs": [
    {
     "name": "stdout",
     "output_type": "stream",
     "text": [
      "🎨 Creating Sankey Diagram for API Flow...\n"
     ]
    },
    {
     "data": {
      "application/vnd.plotly.v1+json": {
       "config": {
        "plotlyServerURL": "https://plot.ly"
       },
       "data": [
        {
         "link": {
          "color": [
           "rgba(255,107,107,0.6)",
           "rgba(255,107,107,0.6)",
           "rgba(255,107,107,0.6)",
           "rgba(46,204,113,0.6)",
           "rgba(231,76,60,0.6)",
           "rgba(46,204,113,0.6)",
           "rgba(231,76,60,0.6)"
          ],
          "source": [
           0,
           1,
           0,
           2,
           0,
           3,
           3
          ],
          "target": [
           1,
           4,
           2,
           4,
           3,
           4,
           5
          ],
          "value": [
           12,
           12,
           12,
           12,
           12,
           9,
           3
          ]
         },
         "node": {
          "color": [
           "#FF6B6B",
           "#4ECDC4",
           "#45B7D1",
           "#96CEB4",
           "#FECA57",
           "#2ECC71",
           "#E74C3C"
          ],
          "label": [
           "Input Stimuli",
           "Gemini",
           "Mistral",
           "Cohere",
           "Successful Output",
           "Failed Output"
          ],
          "line": {
           "color": "black",
           "width": 0.5
          },
          "pad": 15,
          "thickness": 20
         },
         "type": "sankey"
        }
       ],
       "layout": {
        "font": {
         "size": 12
        },
        "height": 600,
        "template": {
         "data": {
          "bar": [
           {
            "error_x": {
             "color": "#2a3f5f"
            },
            "error_y": {
             "color": "#2a3f5f"
            },
            "marker": {
             "line": {
              "color": "#E5ECF6",
              "width": 0.5
             },
             "pattern": {
              "fillmode": "overlay",
              "size": 10,
              "solidity": 0.2
             }
            },
            "type": "bar"
           }
          ],
          "barpolar": [
           {
            "marker": {
             "line": {
              "color": "#E5ECF6",
              "width": 0.5
             },
             "pattern": {
              "fillmode": "overlay",
              "size": 10,
              "solidity": 0.2
             }
            },
            "type": "barpolar"
           }
          ],
          "carpet": [
           {
            "aaxis": {
             "endlinecolor": "#2a3f5f",
             "gridcolor": "white",
             "linecolor": "white",
             "minorgridcolor": "white",
             "startlinecolor": "#2a3f5f"
            },
            "baxis": {
             "endlinecolor": "#2a3f5f",
             "gridcolor": "white",
             "linecolor": "white",
             "minorgridcolor": "white",
             "startlinecolor": "#2a3f5f"
            },
            "type": "carpet"
           }
          ],
          "choropleth": [
           {
            "colorbar": {
             "outlinewidth": 0,
             "ticks": ""
            },
            "type": "choropleth"
           }
          ],
          "contour": [
           {
            "colorbar": {
             "outlinewidth": 0,
             "ticks": ""
            },
            "colorscale": [
             [
              0,
              "#0d0887"
             ],
             [
              0.1111111111111111,
              "#46039f"
             ],
             [
              0.2222222222222222,
              "#7201a8"
             ],
             [
              0.3333333333333333,
              "#9c179e"
             ],
             [
              0.4444444444444444,
              "#bd3786"
             ],
             [
              0.5555555555555556,
              "#d8576b"
             ],
             [
              0.6666666666666666,
              "#ed7953"
             ],
             [
              0.7777777777777778,
              "#fb9f3a"
             ],
             [
              0.8888888888888888,
              "#fdca26"
             ],
             [
              1,
              "#f0f921"
             ]
            ],
            "type": "contour"
           }
          ],
          "contourcarpet": [
           {
            "colorbar": {
             "outlinewidth": 0,
             "ticks": ""
            },
            "type": "contourcarpet"
           }
          ],
          "heatmap": [
           {
            "colorbar": {
             "outlinewidth": 0,
             "ticks": ""
            },
            "colorscale": [
             [
              0,
              "#0d0887"
             ],
             [
              0.1111111111111111,
              "#46039f"
             ],
             [
              0.2222222222222222,
              "#7201a8"
             ],
             [
              0.3333333333333333,
              "#9c179e"
             ],
             [
              0.4444444444444444,
              "#bd3786"
             ],
             [
              0.5555555555555556,
              "#d8576b"
             ],
             [
              0.6666666666666666,
              "#ed7953"
             ],
             [
              0.7777777777777778,
              "#fb9f3a"
             ],
             [
              0.8888888888888888,
              "#fdca26"
             ],
             [
              1,
              "#f0f921"
             ]
            ],
            "type": "heatmap"
           }
          ],
          "histogram": [
           {
            "marker": {
             "pattern": {
              "fillmode": "overlay",
              "size": 10,
              "solidity": 0.2
             }
            },
            "type": "histogram"
           }
          ],
          "histogram2d": [
           {
            "colorbar": {
             "outlinewidth": 0,
             "ticks": ""
            },
            "colorscale": [
             [
              0,
              "#0d0887"
             ],
             [
              0.1111111111111111,
              "#46039f"
             ],
             [
              0.2222222222222222,
              "#7201a8"
             ],
             [
              0.3333333333333333,
              "#9c179e"
             ],
             [
              0.4444444444444444,
              "#bd3786"
             ],
             [
              0.5555555555555556,
              "#d8576b"
             ],
             [
              0.6666666666666666,
              "#ed7953"
             ],
             [
              0.7777777777777778,
              "#fb9f3a"
             ],
             [
              0.8888888888888888,
              "#fdca26"
             ],
             [
              1,
              "#f0f921"
             ]
            ],
            "type": "histogram2d"
           }
          ],
          "histogram2dcontour": [
           {
            "colorbar": {
             "outlinewidth": 0,
             "ticks": ""
            },
            "colorscale": [
             [
              0,
              "#0d0887"
             ],
             [
              0.1111111111111111,
              "#46039f"
             ],
             [
              0.2222222222222222,
              "#7201a8"
             ],
             [
              0.3333333333333333,
              "#9c179e"
             ],
             [
              0.4444444444444444,
              "#bd3786"
             ],
             [
              0.5555555555555556,
              "#d8576b"
             ],
             [
              0.6666666666666666,
              "#ed7953"
             ],
             [
              0.7777777777777778,
              "#fb9f3a"
             ],
             [
              0.8888888888888888,
              "#fdca26"
             ],
             [
              1,
              "#f0f921"
             ]
            ],
            "type": "histogram2dcontour"
           }
          ],
          "mesh3d": [
           {
            "colorbar": {
             "outlinewidth": 0,
             "ticks": ""
            },
            "type": "mesh3d"
           }
          ],
          "parcoords": [
           {
            "line": {
             "colorbar": {
              "outlinewidth": 0,
              "ticks": ""
             }
            },
            "type": "parcoords"
           }
          ],
          "pie": [
           {
            "automargin": true,
            "type": "pie"
           }
          ],
          "scatter": [
           {
            "fillpattern": {
             "fillmode": "overlay",
             "size": 10,
             "solidity": 0.2
            },
            "type": "scatter"
           }
          ],
          "scatter3d": [
           {
            "line": {
             "colorbar": {
              "outlinewidth": 0,
              "ticks": ""
             }
            },
            "marker": {
             "colorbar": {
              "outlinewidth": 0,
              "ticks": ""
             }
            },
            "type": "scatter3d"
           }
          ],
          "scattercarpet": [
           {
            "marker": {
             "colorbar": {
              "outlinewidth": 0,
              "ticks": ""
             }
            },
            "type": "scattercarpet"
           }
          ],
          "scattergeo": [
           {
            "marker": {
             "colorbar": {
              "outlinewidth": 0,
              "ticks": ""
             }
            },
            "type": "scattergeo"
           }
          ],
          "scattergl": [
           {
            "marker": {
             "colorbar": {
              "outlinewidth": 0,
              "ticks": ""
             }
            },
            "type": "scattergl"
           }
          ],
          "scattermap": [
           {
            "marker": {
             "colorbar": {
              "outlinewidth": 0,
              "ticks": ""
             }
            },
            "type": "scattermap"
           }
          ],
          "scattermapbox": [
           {
            "marker": {
             "colorbar": {
              "outlinewidth": 0,
              "ticks": ""
             }
            },
            "type": "scattermapbox"
           }
          ],
          "scatterpolar": [
           {
            "marker": {
             "colorbar": {
              "outlinewidth": 0,
              "ticks": ""
             }
            },
            "type": "scatterpolar"
           }
          ],
          "scatterpolargl": [
           {
            "marker": {
             "colorbar": {
              "outlinewidth": 0,
              "ticks": ""
             }
            },
            "type": "scatterpolargl"
           }
          ],
          "scatterternary": [
           {
            "marker": {
             "colorbar": {
              "outlinewidth": 0,
              "ticks": ""
             }
            },
            "type": "scatterternary"
           }
          ],
          "surface": [
           {
            "colorbar": {
             "outlinewidth": 0,
             "ticks": ""
            },
            "colorscale": [
             [
              0,
              "#0d0887"
             ],
             [
              0.1111111111111111,
              "#46039f"
             ],
             [
              0.2222222222222222,
              "#7201a8"
             ],
             [
              0.3333333333333333,
              "#9c179e"
             ],
             [
              0.4444444444444444,
              "#bd3786"
             ],
             [
              0.5555555555555556,
              "#d8576b"
             ],
             [
              0.6666666666666666,
              "#ed7953"
             ],
             [
              0.7777777777777778,
              "#fb9f3a"
             ],
             [
              0.8888888888888888,
              "#fdca26"
             ],
             [
              1,
              "#f0f921"
             ]
            ],
            "type": "surface"
           }
          ],
          "table": [
           {
            "cells": {
             "fill": {
              "color": "#EBF0F8"
             },
             "line": {
              "color": "white"
             }
            },
            "header": {
             "fill": {
              "color": "#C8D4E3"
             },
             "line": {
              "color": "white"
             }
            },
            "type": "table"
           }
          ]
         },
         "layout": {
          "annotationdefaults": {
           "arrowcolor": "#2a3f5f",
           "arrowhead": 0,
           "arrowwidth": 1
          },
          "autotypenumbers": "strict",
          "coloraxis": {
           "colorbar": {
            "outlinewidth": 0,
            "ticks": ""
           }
          },
          "colorscale": {
           "diverging": [
            [
             0,
             "#8e0152"
            ],
            [
             0.1,
             "#c51b7d"
            ],
            [
             0.2,
             "#de77ae"
            ],
            [
             0.3,
             "#f1b6da"
            ],
            [
             0.4,
             "#fde0ef"
            ],
            [
             0.5,
             "#f7f7f7"
            ],
            [
             0.6,
             "#e6f5d0"
            ],
            [
             0.7,
             "#b8e186"
            ],
            [
             0.8,
             "#7fbc41"
            ],
            [
             0.9,
             "#4d9221"
            ],
            [
             1,
             "#276419"
            ]
           ],
           "sequential": [
            [
             0,
             "#0d0887"
            ],
            [
             0.1111111111111111,
             "#46039f"
            ],
            [
             0.2222222222222222,
             "#7201a8"
            ],
            [
             0.3333333333333333,
             "#9c179e"
            ],
            [
             0.4444444444444444,
             "#bd3786"
            ],
            [
             0.5555555555555556,
             "#d8576b"
            ],
            [
             0.6666666666666666,
             "#ed7953"
            ],
            [
             0.7777777777777778,
             "#fb9f3a"
            ],
            [
             0.8888888888888888,
             "#fdca26"
            ],
            [
             1,
             "#f0f921"
            ]
           ],
           "sequentialminus": [
            [
             0,
             "#0d0887"
            ],
            [
             0.1111111111111111,
             "#46039f"
            ],
            [
             0.2222222222222222,
             "#7201a8"
            ],
            [
             0.3333333333333333,
             "#9c179e"
            ],
            [
             0.4444444444444444,
             "#bd3786"
            ],
            [
             0.5555555555555556,
             "#d8576b"
            ],
            [
             0.6666666666666666,
             "#ed7953"
            ],
            [
             0.7777777777777778,
             "#fb9f3a"
            ],
            [
             0.8888888888888888,
             "#fdca26"
            ],
            [
             1,
             "#f0f921"
            ]
           ]
          },
          "colorway": [
           "#636efa",
           "#EF553B",
           "#00cc96",
           "#ab63fa",
           "#FFA15A",
           "#19d3f3",
           "#FF6692",
           "#B6E880",
           "#FF97FF",
           "#FECB52"
          ],
          "font": {
           "color": "#2a3f5f"
          },
          "geo": {
           "bgcolor": "white",
           "lakecolor": "white",
           "landcolor": "#E5ECF6",
           "showlakes": true,
           "showland": true,
           "subunitcolor": "white"
          },
          "hoverlabel": {
           "align": "left"
          },
          "hovermode": "closest",
          "mapbox": {
           "style": "light"
          },
          "paper_bgcolor": "white",
          "plot_bgcolor": "#E5ECF6",
          "polar": {
           "angularaxis": {
            "gridcolor": "white",
            "linecolor": "white",
            "ticks": ""
           },
           "bgcolor": "#E5ECF6",
           "radialaxis": {
            "gridcolor": "white",
            "linecolor": "white",
            "ticks": ""
           }
          },
          "scene": {
           "xaxis": {
            "backgroundcolor": "#E5ECF6",
            "gridcolor": "white",
            "gridwidth": 2,
            "linecolor": "white",
            "showbackground": true,
            "ticks": "",
            "zerolinecolor": "white"
           },
           "yaxis": {
            "backgroundcolor": "#E5ECF6",
            "gridcolor": "white",
            "gridwidth": 2,
            "linecolor": "white",
            "showbackground": true,
            "ticks": "",
            "zerolinecolor": "white"
           },
           "zaxis": {
            "backgroundcolor": "#E5ECF6",
            "gridcolor": "white",
            "gridwidth": 2,
            "linecolor": "white",
            "showbackground": true,
            "ticks": "",
            "zerolinecolor": "white"
           }
          },
          "shapedefaults": {
           "line": {
            "color": "#2a3f5f"
           }
          },
          "ternary": {
           "aaxis": {
            "gridcolor": "white",
            "linecolor": "white",
            "ticks": ""
           },
           "baxis": {
            "gridcolor": "white",
            "linecolor": "white",
            "ticks": ""
           },
           "bgcolor": "#E5ECF6",
           "caxis": {
            "gridcolor": "white",
            "linecolor": "white",
            "ticks": ""
           }
          },
          "title": {
           "x": 0.05
          },
          "xaxis": {
           "automargin": true,
           "gridcolor": "white",
           "linecolor": "white",
           "ticks": "",
           "title": {
            "standoff": 15
           },
           "zerolinecolor": "white",
           "zerolinewidth": 2
          },
          "yaxis": {
           "automargin": true,
           "gridcolor": "white",
           "linecolor": "white",
           "ticks": "",
           "title": {
            "standoff": 15
           },
           "zerolinecolor": "white",
           "zerolinewidth": 2
          }
         }
        },
        "title": {
         "text": "🌊 API Processing Flow - Sankey Diagram"
        },
        "width": 1000
       }
      }
     },
     "metadata": {},
     "output_type": "display_data"
    },
    {
     "name": "stdout",
     "output_type": "stream",
     "text": [
      "✅ Sankey diagram created!\n"
     ]
    }
   ],
   "source": [
    "# Creative Visualization 4: Sankey Diagram for API Flow Analysis\n",
    "print(\"🎨 Creating Sankey Diagram for API Flow...\")\n",
    "\n",
    "if api_metrics:\n",
    "    # Create Sankey diagram showing data flow through APIs\n",
    "    labels = []\n",
    "    sources = []\n",
    "    targets = []\n",
    "    values = []\n",
    "    \n",
    "    # Define nodes\n",
    "    node_labels = ['Input Stimuli', 'Gemini', 'Mistral', 'Cohere', 'Successful Output', 'Failed Output']\n",
    "    node_indices = {label: i for i, label in enumerate(node_labels)}\n",
    "    \n",
    "    # Add flows from input to each API\n",
    "    for api, metrics in api_metrics.items():\n",
    "        api_name = api.title()\n",
    "        if api_name in ['Gemini', 'Gemini', 'Cohere', 'Mistral']:\n",
    "            # Flow from input to API\n",
    "            sources.append(node_indices['Input Stimuli'])\n",
    "            targets.append(node_indices[api_name])\n",
    "            values.append(metrics['total_responses'])\n",
    "            \n",
    "            # Flow from API to success/failure\n",
    "            successful = metrics['total_responses'] - metrics['error_count']\n",
    "            failed = metrics['error_count']\n",
    "            \n",
    "            if successful > 0:\n",
    "                sources.append(node_indices[api_name])\n",
    "                targets.append(node_indices['Successful Output'])\n",
    "                values.append(successful)\n",
    "            \n",
    "            if failed > 0:\n",
    "                sources.append(node_indices[api_name])\n",
    "                targets.append(node_indices['Failed Output'])\n",
    "                values.append(failed)\n",
    "    \n",
    "    # Create Sankey diagram\n",
    "    fig = go.Figure(data=[go.Sankey(\n",
    "        node=dict(\n",
    "            pad=15,\n",
    "            thickness=20,\n",
    "            line=dict(color=\"black\", width=0.5),\n",
    "            label=node_labels,\n",
    "            color=[\"#FF6B6B\", \"#4ECDC4\", \"#45B7D1\", \"#96CEB4\", \"#FECA57\", \"#2ECC71\", \"#E74C3C\"]\n",
    "        ),\n",
    "        link=dict(\n",
    "            source=sources,\n",
    "            target=targets,\n",
    "            value=values,\n",
    "            color=[\"rgba(255,107,107,0.6)\" if i < len(api_metrics) else \"rgba(46,204,113,0.6)\" \n",
    "                   if targets[i] == node_indices['Successful Output'] else \"rgba(231,76,60,0.6)\"\n",
    "                   for i in range(len(sources))]\n",
    "        )\n",
    "    )])\n",
    "    \n",
    "    fig.update_layout(\n",
    "        title_text=\"🌊 API Processing Flow - Sankey Diagram\",\n",
    "        font_size=12,\n",
    "        width=1000,\n",
    "        height=600\n",
    "    )\n",
    "    \n",
    "    fig.show()\n",
    "    print(\"✅ Sankey diagram created!\")\n",
    "else:\n",
    "    print(\"⚠️  No API data available for Sankey diagram\")\n"
   ]
  },
  {
   "cell_type": "markdown",
   "id": "8184c271-d981-4d62-91a6-364289caffc5",
   "metadata": {},
   "source": [
    "**Interpretation**\n",
    "The Sankey diagram traces inputs split across the three APIs and then into Successful Output or Failed Output. The flows from Gemini and Mistral are directed almost entirely to Successful Output, indicating high reliability in this sample. Cohere shows a noticeable branch to Failed Output, consistent with lower success observed elsewhere. Because the incoming links from Input Stimuli to each API are similar in width, the differences at the output stage reflect model behavior rather than unequal traffic. For the study, this suggests routing critical tasks to Gemini or Mistral, and—if Cohere is used—adding safeguards (e.g., retries, stricter prompts, or validation checks) to reduce failure rates."
   ]
  },
  {
   "cell_type": "code",
   "execution_count": 17,
   "id": "99e0a192",
   "metadata": {},
   "outputs": [
    {
     "data": {
      "image/png": "[encoded data removed]",
      "text/plain": [
       "<Figure size 1600x1200 with 4 Axes>"
      ]
     },
     "metadata": {},
     "output_type": "display_data"
    }
   ],
   "source": [
    "# Text Analysis with N-grams\n",
    "from collections import Counter\n",
    "import re\n",
    "\n",
    "def extract_ngrams(text, n=2):\n",
    "    \"\"\"Extract n-grams from text\"\"\"\n",
    "    if pd.isna(text):\n",
    "        return []\n",
    "    words = re.findall(r'\\b\\w+\\b', text.lower())\n",
    "    return [' '.join(words[i:i+n]) for i in range(len(words)-n+1)]\n",
    "\n",
    "# Analyze bigrams across varieties\n",
    "variety_ngrams = {}\n",
    "for variety in stimuli['variety'].unique():\n",
    "    variety_texts = stimuli[stimuli['variety'] == variety]['text'].astype(str)\n",
    "    all_text = ' '.join(variety_texts)\n",
    "    bigrams = extract_ngrams(all_text, 2)\n",
    "    variety_ngrams[variety] = Counter(bigrams).most_common(10)\n",
    "\n",
    "# Create visualization\n",
    "fig, axes = plt.subplots(2, 2, figsize=(16, 12))\n",
    "fig.suptitle('Most Common Bigrams by Variety', fontsize=16)\n",
    "\n",
    "varieties = list(variety_ngrams.keys())\n",
    "colors = ['#FF6B6B', '#4ECDC4', '#45B7D1', '#96CEB4']\n",
    "\n",
    "for i, variety in enumerate(varieties):\n",
    "    row = i // 2\n",
    "    col = i % 2\n",
    "    \n",
    "    bigrams = variety_ngrams[variety]\n",
    "    if bigrams:\n",
    "        bigram_words, bigram_counts = zip(*bigrams)\n",
    "        \n",
    "        axes[row, col].barh(range(len(bigram_words)), bigram_counts, color=colors[i])\n",
    "        axes[row, col].set_yticks(range(len(bigram_words)))\n",
    "        axes[row, col].set_yticklabels(bigram_words, fontsize=10)\n",
    "        axes[row, col].set_title(f'{variety} - Top Bigrams')\n",
    "        axes[row, col].set_xlabel('Frequency')\n",
    "        axes[row, col].invert_yaxis()\n",
    "\n",
    "plt.tight_layout()\n",
    "plt.show()\n"
   ]
  },
  {
   "cell_type": "markdown",
   "id": "8d9b093c-79a1-4b2f-87c8-bb4355f53325",
   "metadata": {},
   "source": [
    "**Interpretation**\n",
    "This figure checks that the stimuli actually carry the signals we intend to test. The AAVE panel surfaces dialectal markers such as he finna and you sliding, which are useful for evaluating whether models preserve meaning and style without “correcting” the variety. The Spanglish panel shows clear code-switching (e.g., vamos, la tienda, no entiendo) alongside an “it s” token, which likely reflects apostrophe stripping in preprocessing; this confirms mixed-language content is present but also flags that tokenization choices (lowercasing/punctuation removal) can split forms like it’s. The BrEng panel includes British-specific lexicon (lorry, flat), indicating the dataset distinguishes UK usage from U.S. English. The StdEng panel highlights neutral constructions (e.g., he is, please explain). Together, these patterns show that each variety has recognizable bigram cues rather than generic English. For the project, that supports validity of the variety labels and motivates two precautions in evaluation: (1) retain or carefully normalize apostrophes to avoid artifacts that could penalize certain varieties, and (2) include checks that models keep code-switch boundaries and dialectal expressions intact when paraphrasing or summarizing."
   ]
  },
  {
   "cell_type": "code",
   "execution_count": 18,
   "id": "91223ceb",
   "metadata": {},
   "outputs": [
    {
     "name": "stdout",
     "output_type": "stream",
     "text": [
      "EDA Analysis Complete!\n",
      "==============================\n",
      "Visualizations Created:\n",
      "  - API Performance Heatmap\n",
      "  - Interactive Bubble Chart\n",
      "  - Radar Chart for API Capabilities\n",
      "  - Text Analysis with N-grams\n",
      "  - Gemini-Specific Analysis\n",
      "==============================\n"
     ]
    }
   ],
   "source": [
    "# Summary Statistics\n",
    "print(\"EDA Analysis Complete!\")\n",
    "print(\"=\" * 30)\n",
    "print(\"Visualizations Created:\")\n",
    "print(\"  - API Performance Heatmap\")\n",
    "print(\"  - Interactive Bubble Chart\") \n",
    "print(\"  - Radar Chart for API Capabilities\")\n",
    "print(\"  - Text Analysis with N-grams\")\n",
    "print(\"  - Gemini-Specific Analysis\")\n",
    "print(\"=\" * 30)\n"
   ]
  },
  {
   "cell_type": "markdown",
   "id": "cb8960d8",
   "metadata": {},
   "source": [
    " "
   ]
  }
 ],
 "metadata": {
  "kernelspec": {
   "display_name": "Python 3 (ipykernel)",
   "language": "python",
   "name": "python3"
  },
  "language_info": {
   "codemirror_mode": {
    "name": "ipython",
    "version": 3
   },
   "file_extension": ".py",
   "mimetype": "text/x-python",
   "name": "python",
   "nbconvert_exporter": "python",
   "pygments_lexer": "ipython3",
   "version": "3.9.6"
  }
 },
 "nbformat": 4,
 "nbformat_minor": 5
}
