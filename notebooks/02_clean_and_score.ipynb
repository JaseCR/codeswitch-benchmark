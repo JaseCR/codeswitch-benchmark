{
 "cells": [
  {
   "cell_type": "code",
   "execution_count": 1,
   "id": "24459cb4-7eb8-4f75-9eb2-477f5cf9b292",
   "metadata": {},
   "outputs": [
    {
     "name": "stdout",
     "output_type": "stream",
     "text": [
      "API Keys Status:\n",
      "  Gemini: True\n",
      "  Cohere: True\n",
      "  Mistral: True\n",
      "Loaded Gemini data: 12 examples\n"
     ]
    }
   ],
   "source": [
    "# Data Processing and Scoring: Code-Switching Analysis\n",
    "\n",
    "## Setup and Data Loading\n",
    "\n",
    "from dotenv import load_dotenv\n",
    "import os\n",
    "import pandas as pd\n",
    "import numpy as np\n",
    "import matplotlib.pyplot as plt\n",
    "\n",
    "# Set working directory to project root\n",
    "if \".env\" not in os.listdir():\n",
    "    os.chdir(\"/Users/jase/codeswitch-benchmark\")\n",
    "\n",
    "# Load environment variables\n",
    "load_dotenv()\n",
    "\n",
    "# Verify API key availability\n",
    "print(\"API Keys Status:\")\n",
    "print(f\"  Gemini: {bool(os.getenv('GEMINI_API_KEY'))}\")\n",
    "print(f\"  Cohere: {bool(os.getenv('COHERE_API_KEY'))}\")\n",
    "print(f\"  Mistral: {bool(os.getenv('MISTRAL_API_KEY'))}\")\n",
    "\n",
    "# Load Gemini response data\n",
    "try:\n",
    "    df = pd.read_csv(\"../data/raw/gemini_responses.csv\")\n",
    "    print(f\"Loaded Gemini data: {len(df)} examples\")\n",
    "    df.head()\n",
    "except FileNotFoundError:\n",
    "    print(\"No Gemini response data found. Please run data collection first.\")\n"
   ]
  },
  {
   "cell_type": "code",
   "execution_count": 2,
   "id": "bc7790e2-44cc-4a11-884b-8e2f2632741d",
   "metadata": {},
   "outputs": [
    {
     "name": "stdout",
     "output_type": "stream",
     "text": [
      "Response metrics calculated:\n",
      "        id    variety  length_ratio  token_overlap\n",
      "0  aave_01       AAVE     20.250000       0.875000\n",
      "1  aave_02       AAVE     23.166667       0.833333\n",
      "2  aave_03       AAVE     25.166667       0.833333\n",
      "3  span_01  Spanglish     17.875000       0.875000\n",
      "4  span_02  Spanglish     25.000000       1.000000\n"
     ]
    }
   ],
   "source": [
    "## Calculate Response Metrics\n",
    "\n",
    "# Calculate response length metrics\n",
    "df[\"input_len\"] = df[\"input_text\"].apply(lambda x: len(str(x).split()))\n",
    "df[\"output_len\"] = df[\"output_text\"].apply(lambda x: len(str(x).split()))\n",
    "df[\"length_ratio\"] = df[\"output_len\"] / df[\"input_len\"]\n",
    "\n",
    "# Calculate token overlap (proportion of input words preserved in output)\n",
    "def token_overlap(input_text, output_text):\n",
    "    \"\"\"Calculate the proportion of input words that appear in the output.\"\"\"\n",
    "    input_words = set(str(input_text).lower().split())\n",
    "    output_words = set(str(output_text).lower().split())\n",
    "    \n",
    "    if not input_words:\n",
    "        return np.nan\n",
    "    \n",
    "    overlap = len(input_words & output_words) / len(input_words)\n",
    "    return overlap\n",
    "\n",
    "df[\"token_overlap\"] = df.apply(lambda r: token_overlap(r[\"input_text\"], r[\"output_text\"]), axis=1)\n",
    "\n",
    "# Preview calculated metrics\n",
    "print(\"Response metrics calculated:\")\n",
    "print(df[[\"id\", \"variety\", \"length_ratio\", \"token_overlap\"]].head())\n"
   ]
  },
  {
   "cell_type": "code",
   "execution_count": 3,
   "id": "12839a29-31ca-49d8-9200-0bcf18cdda16",
   "metadata": {},
   "outputs": [
    {
     "name": "stdout",
     "output_type": "stream",
     "text": [
      "Summary statistics for response metrics:\n",
      "       length_ratio  token_overlap\n",
      "count         12.00          12.00\n",
      "mean          23.02           0.89\n",
      "std            4.79           0.09\n",
      "min           16.00           0.71\n",
      "25%           19.66           0.83\n",
      "50%           23.21           0.88\n",
      "75%           25.44           1.00\n",
      "max           32.25           1.00\n"
     ]
    }
   ],
   "source": [
    "## Summary Statistics\n",
    "\n",
    "print(\"Summary statistics for response metrics:\")\n",
    "print(df[[\"length_ratio\", \"token_overlap\"]].describe().round(2))\n"
   ]
  },
  {
   "cell_type": "code",
   "execution_count": 4,
   "id": "d5bf04cc-f0d6-4574-8b80-2c38ceff2f7a",
   "metadata": {},
   "outputs": [
    {
     "data": {
      "image/png": "[encoded data removed]",
      "text/plain": [
       "<Figure size 1000x600 with 1 Axes>"
      ]
     },
     "metadata": {},
     "output_type": "display_data"
    }
   ],
   "source": [
    "## Visualize Metrics by Language Variety\n",
    "\n",
    "# Create bar plot comparing metrics across varieties\n",
    "metrics_by_variety = df.groupby(\"variety\")[[\"length_ratio\", \"token_overlap\"]].mean()\n",
    "\n",
    "metrics_by_variety.plot(kind=\"bar\", figsize=(10, 6))\n",
    "plt.title(\"Response Metrics by Language Variety (Gemini)\")\n",
    "plt.ylabel(\"Mean Value\")\n",
    "plt.xlabel(\"Language Variety\")\n",
    "plt.xticks(rotation=45)\n",
    "plt.legend([\"Length Ratio\", \"Token Overlap\"])\n",
    "plt.tight_layout()\n",
    "plt.show()"
   ]
  },
  {
   "cell_type": "code",
   "execution_count": 5,
   "id": "d9c7cf18-91b1-4581-8177-22bb2742ff8d",
   "metadata": {},
   "outputs": [
    {
     "name": "stdout",
     "output_type": "stream",
     "text": [
      "Saved processed data: 12 examples with metrics\n"
     ]
    }
   ],
   "source": [
    "## Save Processed Data\n",
    "\n",
    "# Ensure processed data directory exists\n",
    "os.makedirs(\"../data/processed\", exist_ok=True)\n",
    "\n",
    "# Save scored data\n",
    "df.to_csv(\"../data/processed/gemini_scored.csv\", index=False)\n",
    "print(f\"Saved processed data: {len(df)} examples with metrics\")"
   ]
  },
  {
   "cell_type": "code",
   "execution_count": 6,
   "id": "16618c0c",
   "metadata": {},
   "outputs": [
    {
     "name": "stdout",
     "output_type": "stream",
     "text": [
      "Found gemini data: ../data/raw/gemini_responses.csv\n",
      "Found cohere data: ../data/raw/cohere_smoke.csv\n",
      "Found mistral data: ../data/raw/mistral_smoke.csv\n",
      "Combined data from 3 models: 16 examples\n",
      "Saved combined model data\n"
     ]
    },
    {
     "data": {
      "text/html": [
       "<div>\n",
       "<style scoped>\n",
       "    .dataframe tbody tr th:only-of-type {\n",
       "        vertical-align: middle;\n",
       "    }\n",
       "\n",
       "    .dataframe tbody tr th {\n",
       "        vertical-align: top;\n",
       "    }\n",
       "\n",
       "    .dataframe thead th {\n",
       "        text-align: right;\n",
       "    }\n",
       "</style>\n",
       "<table border=\"1\" class=\"dataframe\">\n",
       "  <thead>\n",
       "    <tr style=\"text-align: right;\">\n",
       "      <th></th>\n",
       "      <th>id</th>\n",
       "      <th>variety</th>\n",
       "      <th>task</th>\n",
       "      <th>input_text</th>\n",
       "      <th>output_text</th>\n",
       "      <th>success</th>\n",
       "      <th>model</th>\n",
       "      <th>input_len</th>\n",
       "      <th>output_len</th>\n",
       "      <th>length_ratio</th>\n",
       "      <th>token_overlap</th>\n",
       "    </tr>\n",
       "  </thead>\n",
       "  <tbody>\n",
       "    <tr>\n",
       "      <th>0</th>\n",
       "      <td>aave_01</td>\n",
       "      <td>AAVE</td>\n",
       "      <td>paraphrase</td>\n",
       "      <td>He finna go to the store. You sliding?</td>\n",
       "      <td>Here are a few ways to paraphrase or continue ...</td>\n",
       "      <td>True</td>\n",
       "      <td>gemini</td>\n",
       "      <td>8</td>\n",
       "      <td>162</td>\n",
       "      <td>20.250000</td>\n",
       "      <td>0.875000</td>\n",
       "    </tr>\n",
       "    <tr>\n",
       "      <th>1</th>\n",
       "      <td>aave_02</td>\n",
       "      <td>AAVE</td>\n",
       "      <td>explain</td>\n",
       "      <td>Ion think that plan gon' work.</td>\n",
       "      <td>Here are a few options, both paraphrasing and ...</td>\n",
       "      <td>True</td>\n",
       "      <td>gemini</td>\n",
       "      <td>6</td>\n",
       "      <td>139</td>\n",
       "      <td>23.166667</td>\n",
       "      <td>0.833333</td>\n",
       "    </tr>\n",
       "    <tr>\n",
       "      <th>2</th>\n",
       "      <td>aave_03</td>\n",
       "      <td>AAVE</td>\n",
       "      <td>continue</td>\n",
       "      <td>We was tryna finish that yesterday</td>\n",
       "      <td>Okay, here are some options, trying to keep th...</td>\n",
       "      <td>True</td>\n",
       "      <td>gemini</td>\n",
       "      <td>6</td>\n",
       "      <td>151</td>\n",
       "      <td>25.166667</td>\n",
       "      <td>0.833333</td>\n",
       "    </tr>\n",
       "    <tr>\n",
       "      <th>3</th>\n",
       "      <td>span_01</td>\n",
       "      <td>Spanglish</td>\n",
       "      <td>paraphrase</td>\n",
       "      <td>Vamos later, it's muy close to la tienda.</td>\n",
       "      <td>Here are a few ways to paraphrase or continue ...</td>\n",
       "      <td>True</td>\n",
       "      <td>gemini</td>\n",
       "      <td>8</td>\n",
       "      <td>143</td>\n",
       "      <td>17.875000</td>\n",
       "      <td>0.875000</td>\n",
       "    </tr>\n",
       "    <tr>\n",
       "      <th>4</th>\n",
       "      <td>span_02</td>\n",
       "      <td>Spanglish</td>\n",
       "      <td>explain</td>\n",
       "      <td>No entiendo bien, pero I think it's fine.</td>\n",
       "      <td>Here are a few ways to paraphrase or continue ...</td>\n",
       "      <td>True</td>\n",
       "      <td>gemini</td>\n",
       "      <td>8</td>\n",
       "      <td>200</td>\n",
       "      <td>25.000000</td>\n",
       "      <td>1.000000</td>\n",
       "    </tr>\n",
       "  </tbody>\n",
       "</table>\n",
       "</div>"
      ],
      "text/plain": [
       "        id    variety        task                                 input_text  \\\n",
       "0  aave_01       AAVE  paraphrase     He finna go to the store. You sliding?   \n",
       "1  aave_02       AAVE     explain             Ion think that plan gon' work.   \n",
       "2  aave_03       AAVE    continue         We was tryna finish that yesterday   \n",
       "3  span_01  Spanglish  paraphrase  Vamos later, it's muy close to la tienda.   \n",
       "4  span_02  Spanglish     explain  No entiendo bien, pero I think it's fine.   \n",
       "\n",
       "                                         output_text success   model  \\\n",
       "0  Here are a few ways to paraphrase or continue ...    True  gemini   \n",
       "1  Here are a few options, both paraphrasing and ...    True  gemini   \n",
       "2  Okay, here are some options, trying to keep th...    True  gemini   \n",
       "3  Here are a few ways to paraphrase or continue ...    True  gemini   \n",
       "4  Here are a few ways to paraphrase or continue ...    True  gemini   \n",
       "\n",
       "   input_len  output_len  length_ratio  token_overlap  \n",
       "0          8         162     20.250000       0.875000  \n",
       "1          6         139     23.166667       0.833333  \n",
       "2          6         151     25.166667       0.833333  \n",
       "3          8         143     17.875000       0.875000  \n",
       "4          8         200     25.000000       1.000000  "
      ]
     },
     "execution_count": 6,
     "metadata": {},
     "output_type": "execute_result"
    }
   ],
   "source": [
    "## Multi-Model Data Integration\n",
    "\n",
    "# Check for additional model outputs and combine them\n",
    "model_files = {\n",
    "    'gemini': '../data/raw/gemini_responses.csv',\n",
    "    'cohere': '../data/raw/cohere_smoke.csv',\n",
    "    'mistral': '../data/raw/mistral_smoke.csv'\n",
    "}\n",
    "\n",
    "all_model_data = {}\n",
    "\n",
    "for model_name, file_path in model_files.items():\n",
    "    if os.path.exists(file_path):\n",
    "        print(f\"Found {model_name} data: {file_path}\")\n",
    "        model_df = pd.read_csv(file_path)\n",
    "        model_df['model'] = model_name\n",
    "        \n",
    "        # Apply same metrics to all models\n",
    "        model_df[\"input_len\"] = model_df[\"input_text\"].apply(lambda x: len(str(x).split()))\n",
    "        model_df[\"output_len\"] = model_df[\"output_text\"].apply(lambda x: len(str(x).split()))\n",
    "        model_df[\"length_ratio\"] = model_df[\"output_len\"] / model_df[\"input_len\"]\n",
    "        model_df[\"token_overlap\"] = model_df.apply(lambda r: token_overlap(r[\"input_text\"], r[\"output_text\"]), axis=1)\n",
    "        \n",
    "        all_model_data[model_name] = model_df\n",
    "    else:\n",
    "        print(f\"No {model_name} data found: {file_path}\")\n",
    "\n",
    "# Combine all available model data\n",
    "if len(all_model_data) > 1:\n",
    "    combined_df = pd.concat(all_model_data.values(), ignore_index=True)\n",
    "    print(f\"Combined data from {len(all_model_data)} models: {len(combined_df)} examples\")\n",
    "    \n",
    "    # Save combined dataset\n",
    "    combined_df.to_csv(\"../data/processed/all_models_scored.csv\", index=False)\n",
    "    print(\"Saved combined model data\")\n",
    "else:\n",
    "    combined_df = df  # Use Gemini data as default\n",
    "    print(\"Using Gemini data only\")\n",
    "\n",
    "combined_df.head()\n"
   ]
  }
 ],
 "metadata": {
  "kernelspec": {
   "display_name": "Python 3 (ipykernel)",
   "language": "python",
   "name": "python3"
  },
  "language_info": {
   "codemirror_mode": {
    "name": "ipython",
    "version": 3
   },
   "file_extension": ".py",
   "mimetype": "text/x-python",
   "name": "python",
   "nbconvert_exporter": "python",
   "pygments_lexer": "ipython3",
   "version": "3.9.6"
  }
 },
 "nbformat": 4,
 "nbformat_minor": 5
}
