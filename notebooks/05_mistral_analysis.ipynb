{
 "cells": [
  {
   "cell_type": "markdown",
   "metadata": {},
   "source": [
    "# Mistral AI Code-Switching Analysis\n",
    "\n",
    "This notebook provides comprehensive testing and analysis of Mistral AI's language models for code-switching tasks. It includes:\n",
    "\n",
    "- **API Setup & Testing**: Automatic debugging and connection verification\n",
    "- **Systematic Test Cases**: Different linguistic varieties and tasks\n",
    "- **Performance Analysis**: Response quality and consistency metrics\n",
    "- **Comparative Studies**: How Mistral handles different code-switching scenarios\n",
    "- **Error Analysis**: Common failure patterns and debugging insights\n",
    "\n",
    "## 🎯 **Objectives:**\n",
    "1. Validate Mistral AI API integration and reliability\n",
    "2. Test performance across different linguistic varieties (AAVE, Spanglish, British English, etc.)\n",
    "3. Analyze response quality and consistency\n",
    "4. Identify optimal prompts and parameters for code-switching tasks\n",
    "5. Compare Mistral's capabilities with other language models\n",
    "\n",
    "## 📋 **Prerequisites:**\n",
    "- Mistral AI API key added to `.env` file as `MISTRAL_API_KEY=your_key_here`\n",
    "- Internet connection for API calls\n",
    "- Required Python packages installed\n"
   ]
  },
  {
   "cell_type": "markdown",
   "metadata": {},
   "source": [
    "## 1. Setup and Environment Configuration\n",
    "\n",
    "First, we'll set up the environment, configure API access, and ensure all dependencies are working correctly.\n"
   ]
  },
  {
   "cell_type": "code",
   "execution_count": 1,
   "metadata": {},
   "outputs": [
    {
     "name": "stdout",
     "output_type": "stream",
     "text": [
      "🔧 Setting up Mistral AI environment...\n",
      "📁 Working directory: /Users/jase/codeswitch-benchmark/notebooks\n",
      "✅ Debug agent imported successfully\n",
      "\n",
      "🔍 Running comprehensive diagnosis...\n",
      "🚀 Mistral Debug Agent - Full Diagnosis\n",
      "============================================================\n",
      "\n",
      "🔧 Running Comprehensive Diagnosis...\n",
      "==================================================\n",
      "🔍 Mistral Debug Agent Starting...\n",
      "==================================================\n",
      "✅ Found project root: /Users/jase/codeswitch-benchmark\n",
      "✅ Found .env file: /Users/jase/codeswitch-benchmark/.env\n",
      "📁 Changing directory from /Users/jase/codeswitch-benchmark/notebooks to /Users/jase/codeswitch-benchmark\n",
      "✅ Environment variables loaded\n",
      "✅ API key found (prefix: YWdltFw0j8)\n",
      "✅ API key length: 32 characters\n",
      "✅ Mistral client initialized\n",
      "\n",
      "🧪 Testing Mistral API Connection...\n",
      "==================================================\n",
      "\n",
      "🔄 Testing mistral-large-latest...\n",
      "✅ mistral-large-latest works: Hi!\n",
      "\n",
      "✅ All tests passed! Mistral API is working correctly.\n",
      "\n",
      "🔧 Fixing Notebook Path Issues...\n",
      "==================================================\n",
      "✅ Added /Users/jase/codeswitch-benchmark/src to Python path\n",
      "\n",
      "🎉 All systems operational!\n",
      "You can now use the Mistral API in your notebooks.\n",
      "\n",
      "🎉 Mistral AI is ready for analysis!\n"
     ]
    }
   ],
   "source": [
    "# 🚀 AUTOMATIC DEBUG AGENT - Run this cell first!\n",
    "import sys\n",
    "import os\n",
    "import pandas as pd\n",
    "import numpy as np\n",
    "from datetime import datetime\n",
    "import warnings\n",
    "warnings.filterwarnings('ignore')\n",
    "\n",
    "# Add src to path for imports\n",
    "current_dir = os.getcwd()\n",
    "if current_dir.endswith('notebooks'):\n",
    "    src_path = os.path.join('..', 'src')\n",
    "else:\n",
    "    src_path = 'src'\n",
    "\n",
    "if src_path not in sys.path:\n",
    "    sys.path.insert(0, src_path)\n",
    "\n",
    "print(\"🔧 Setting up Mistral AI environment...\")\n",
    "print(f\"📁 Working directory: {current_dir}\")\n",
    "\n",
    "# Import and run the debug agent\n",
    "try:\n",
    "    from debug_mistral import debug_mistral\n",
    "    print(\"✅ Debug agent imported successfully\")\n",
    "    \n",
    "    # Run full diagnosis\n",
    "    print(\"\\n🔍 Running comprehensive diagnosis...\")\n",
    "    success = debug_mistral()\n",
    "    \n",
    "    if success:\n",
    "        print(\"\\n🎉 Mistral AI is ready for analysis!\")\n",
    "    else:\n",
    "        print(\"\\n❌ Issues detected. Please check the output above.\")\n",
    "        print(\"💡 Common solutions:\")\n",
    "        print(\"   - Add MISTRAL_API_KEY to your .env file\")\n",
    "        print(\"   - Check your internet connection\")\n",
    "        print(\"   - Verify you have Mistral API credits\")\n",
    "        \n",
    "except ImportError as e:\n",
    "    print(f\"❌ Failed to import debug agent: {e}\")\n",
    "    print(\"💡 Make sure the debug_mistral.py file exists in the src directory\")\n"
   ]
  }
 ],
 "metadata": {
  "kernelspec": {
   "display_name": "Python 3 (ipykernel)",
   "language": "python",
   "name": "python3"
  },
  "language_info": {
   "codemirror_mode": {
    "name": "ipython",
    "version": 3
   },
   "file_extension": ".py",
   "mimetype": "text/x-python",
   "name": "python",
   "nbconvert_exporter": "python",
   "pygments_lexer": "ipython3",
   "version": "3.9.6"
  }
 },
 "nbformat": 4,
 "nbformat_minor": 4
}
