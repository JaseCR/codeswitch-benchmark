{
 "cells": [
  {
   "cell_type": "markdown",
   "metadata": {},
   "source": [
    "# Test Anthropic Claude Adapter\n",
    "\n",
    "This notebook tests the Anthropic Claude adapter with automatic debugging.\n"
   ]
  },
  {
   "cell_type": "code",
   "execution_count": null,
   "metadata": {},
   "outputs": [],
   "source": [
    "# 🚀 AUTOMATIC DEBUG AGENT - Run this cell first!\n",
    "import sys\n",
    "import os\n",
    "\n",
    "# Add src to path for imports\n",
    "current_dir = os.getcwd()\n",
    "if current_dir.endswith('notebooks'):\n",
    "    # We're in notebooks directory, add parent/src to path\n",
    "    src_path = os.path.join('..', 'src')\n",
    "else:\n",
    "    # We're in project root, add src to path\n",
    "    src_path = 'src'\n",
    "\n",
    "if src_path not in sys.path:\n",
    "    sys.path.insert(0, src_path)\n",
    "\n",
    "# Import and run the debug agent\n",
    "from debug_agent import debug_anthropic\n",
    "\n",
    "# Run full diagnosis\n",
    "success = debug_anthropic()\n",
    "\n",
    "if success:\n",
    "    print(\"\\n🎉 Ready to use Anthropic API!\")\n",
    "else:\n",
    "    print(\"\\n❌ Issues detected. Please check the output above.\")\n"
   ]
  },
  {
   "cell_type": "code",
   "execution_count": null,
   "metadata": {},
   "outputs": [],
   "source": [
    "# Test the query_claude function (only run after debug agent succeeds)\n",
    "from adapters.anthropic_adapter import query_claude\n",
    "\n",
    "print(\"🧪 Testing query_claude function...\")\n",
    "try:\n",
    "    result = query_claude(\"Say hello in one word.\")\n",
    "    print(\"✅ query_claude works:\", result)\n",
    "except Exception as e:\n",
    "    print(\"❌ query_claude failed:\", e)\n"
   ]
  },
  {
   "cell_type": "code",
   "execution_count": null,
   "metadata": {},
   "outputs": [],
   "source": [
    "# Test with different code-switching prompts\n",
    "print(\"🧪 Testing query_claude with different prompts:\")\n",
    "print(\"=\" * 50)\n",
    "\n",
    "test_prompts = [\n",
    "    \"Paraphrase this AAVE sentence: He finna go to the store.\",\n",
    "    \"Continue this Spanglish: Vamos later, it's muy close to la tienda.\",\n",
    "    \"Explain this British English: We're off on holiday next week, fancy it?\"\n",
    "]\n",
    "\n",
    "for i, prompt in enumerate(test_prompts, 1):\n",
    "    try:\n",
    "        result = query_claude(prompt)\n",
    "        print(f\"\\n{i}. Prompt: {prompt}\")\n",
    "        print(f\"   Response: {result}\")\n",
    "    except Exception as e:\n",
    "        print(f\"\\n{i}. Prompt: {prompt}\")\n",
    "        print(f\"   Error: {e}\")\n",
    "    print(\"-\" * 50)\n"
   ]
  },
  {
   "cell_type": "markdown",
   "metadata": {},
   "source": [
    "# Test Anthropic Claude Adapter\n",
    "\n",
    "This notebook tests the Anthropic Claude adapter with automatic debugging.\n"
   ]
  },
  {
   "cell_type": "code",
   "execution_count": null,
   "metadata": {},
   "outputs": [],
   "source": [
    "# 🚀 AUTOMATIC DEBUG AGENT - Run this cell first!\n",
    "import sys\n",
    "import os\n",
    "\n",
    "# Add src to path for imports\n",
    "current_dir = os.getcwd()\n",
    "if current_dir.endswith('notebooks'):\n",
    "    # We're in notebooks directory, add parent/src to path\n",
    "    src_path = os.path.join('..', 'src')\n",
    "else:\n",
    "    # We're in project root, add src to path\n",
    "    src_path = 'src'\n",
    "\n",
    "if src_path not in sys.path:\n",
    "    sys.path.insert(0, src_path)\n",
    "\n",
    "# Import and run the debug agent\n",
    "from debug_agent import debug_anthropic\n",
    "\n",
    "# Run full diagnosis\n",
    "success = debug_anthropic()\n",
    "\n",
    "if success:\n",
    "    print(\"\\n🎉 Ready to use Anthropic API!\")\n",
    "else:\n",
    "    print(\"\\n❌ Issues detected. Please check the output above.\")\n"
   ]
  },
  {
   "cell_type": "code",
   "execution_count": null,
   "metadata": {},
   "outputs": [],
   "source": [
    "# Test the query_claude function (only run after debug agent succeeds)\n",
    "from adapters.anthropic_adapter import query_claude\n",
    "\n",
    "print(\"🧪 Testing query_claude function...\")\n",
    "try:\n",
    "    result = query_claude(\"Say hello in one word.\")\n",
    "    print(\"✅ query_claude works:\", result)\n",
    "except Exception as e:\n",
    "    print(\"❌ query_claude failed:\", e)\n"
   ]
  },
  {
   "cell_type": "code",
   "execution_count": null,
   "metadata": {},
   "outputs": [],
   "source": [
    "# Test with different code-switching prompts\n",
    "print(\"🧪 Testing query_claude with different prompts:\")\n",
    "print(\"=\" * 50)\n",
    "\n",
    "test_prompts = [\n",
    "    \"Paraphrase this AAVE sentence: He finna go to the store.\",\n",
    "    \"Continue this Spanglish: Vamos later, it's muy close to la tienda.\",\n",
    "    \"Explain this British English: We're off on holiday next week, fancy it?\"\n",
    "]\n",
    "\n",
    "for i, prompt in enumerate(test_prompts, 1):\n",
    "    try:\n",
    "        result = query_claude(prompt)\n",
    "        print(f\"\\n{i}. Prompt: {prompt}\")\n",
    "        print(f\"   Response: {result}\")\n",
    "    except Exception as e:\n",
    "        print(f\"\\n{i}. Prompt: {prompt}\")\n",
    "        print(f\"   Error: {e}\")\n",
    "    print(\"-\" * 50)\n"
   ]
  },
  {
   "cell_type": "markdown",
   "metadata": {},
   "source": [
    "# Test Anthropic Claude Adapter\n",
    "\n",
    "This notebook tests the Anthropic Claude adapter with diagnostic information.\n"
   ]
  },
  {
   "cell_type": "code",
   "execution_count": 2,
   "metadata": {},
   "outputs": [
    {
     "name": "stdout",
     "output_type": "stream",
     "text": [
      "CWD: /Users/jase/codeswitch-benchmark/notebooks\n",
      ".env present? False\n",
      "Loaded: True Prefix: sk-ant-\n",
      "\n",
      "Trying claude-3-5-sonnet-20241022...\n"
     ]
    },
    {
     "name": "stderr",
     "output_type": "stream",
     "text": [
      "/var/folders/pw/l9vnqt6s03q70wcztn9sq2180000gn/T/ipykernel_13723/3191127437.py:18: DeprecationWarning: The model 'claude-3-5-sonnet-20241022' is deprecated and will reach end-of-life on October 22, 2025.\n",
      "Please migrate to a newer model. Visit https://docs.anthropic.com/en/docs/resources/model-deprecations for more information.\n",
      "  r = client.messages.create(\n"
     ]
    },
    {
     "name": "stdout",
     "output_type": "stream",
     "text": [
      "Call failed: Error code: 401 - {'type': 'error', 'error': {'type': 'authentication_error', 'message': 'invalid x-\n",
      "\n",
      "Trying claude-3-sonnet-20240229...\n",
      "Call failed: Error code: 401 - {'type': 'error', 'error': {'type': 'authentication_error', 'message': 'invalid x-\n",
      "\n",
      "Trying claude-3-haiku-20240307...\n"
     ]
    },
    {
     "name": "stderr",
     "output_type": "stream",
     "text": [
      "/var/folders/pw/l9vnqt6s03q70wcztn9sq2180000gn/T/ipykernel_13723/3191127437.py:18: DeprecationWarning: The model 'claude-3-sonnet-20240229' is deprecated and will reach end-of-life on July 21st, 2025.\n",
      "Please migrate to a newer model. Visit https://docs.anthropic.com/en/docs/resources/model-deprecations for more information.\n",
      "  r = client.messages.create(\n"
     ]
    },
    {
     "name": "stdout",
     "output_type": "stream",
     "text": [
      "Call failed: Error code: 401 - {'type': 'error', 'error': {'type': 'authentication_error', 'message': 'invalid x-\n"
     ]
    }
   ],
   "source": [
    "from dotenv import load_dotenv; load_dotenv()\n",
    "import os, anthropic\n",
    "print(\"CWD:\", os.getcwd())\n",
    "print(\".env present?\", \".env\" in os.listdir())\n",
    "print(\"Loaded:\", bool(os.getenv(\"ANTHROPIC_API_KEY\")) , \"Prefix:\", (os.getenv(\"ANTHROPIC_API_KEY\") or \"\")[:7])\n",
    "\n",
    "# Try different models\n",
    "models_to_try = [\n",
    "    \"claude-3-5-sonnet-20241022\",  # Latest\n",
    "    \"claude-3-sonnet-20240229\",   # Older but stable\n",
    "    \"claude-3-haiku-20240307\"     # Fastest\n",
    "]\n",
    "\n",
    "client = anthropic.Anthropic(api_key=os.getenv(\"ANTHROPIC_API_KEY\"))\n",
    "for model in models_to_try:\n",
    "    try:\n",
    "        print(f\"\\nTrying {model}...\")\n",
    "        r = client.messages.create(\n",
    "            model=model,\n",
    "            max_tokens=16,\n",
    "            messages=[{\"role\": \"user\", \"content\": \"One-word greeting.\"}],\n",
    "        )\n",
    "        print(\"Call OK:\", r.content[0].text)\n",
    "        break\n",
    "    except Exception as e:\n",
    "        print(\"Call failed:\", str(e)[:100])\n"
   ]
  },
  {
   "cell_type": "code",
   "execution_count": null,
   "metadata": {},
   "outputs": [],
   "source": [
    "# Test the new query_claude function\n",
    "import sys\n",
    "sys.path.append('../src')\n",
    "from adapters.anthropic_adapter import query_claude\n",
    "\n",
    "print(\"Testing query_claude function...\")\n",
    "try:\n",
    "    result = query_claude(\"Say hello in one word.\")\n",
    "    print(\"✅ query_claude works:\", result)\n",
    "except Exception as e:\n",
    "    print(\"❌ query_claude failed:\", e)\n"
   ]
  },
  {
   "cell_type": "code",
   "execution_count": null,
   "metadata": {},
   "outputs": [],
   "source": [
    "# Test with different prompts\n",
    "print(\"🧪 Testing query_claude with different prompts:\")\n",
    "print(\"=\" * 50)\n",
    "\n",
    "test_prompts = [\n",
    "    \"Paraphrase this AAVE sentence: He finna go to the store.\",\n",
    "    \"Continue this Spanglish: Vamos later, it's muy close to la tienda.\",\n",
    "    \"Explain this British English: We're off on holiday next week, fancy it?\"\n",
    "]\n",
    "\n",
    "for i, prompt in enumerate(test_prompts, 1):\n",
    "    try:\n",
    "        result = query_claude(prompt)\n",
    "        print(f\"\\n{i}. Prompt: {prompt}\")\n",
    "        print(f\"   Response: {result}\")\n",
    "    except Exception as e:\n",
    "        print(f\"\\n{i}. Prompt: {prompt}\")\n",
    "        print(f\"   Error: {e}\")\n",
    "    print(\"-\" * 50)\n"
   ]
  }
 ],
 "metadata": {
  "kernelspec": {
   "display_name": "Python 3 (ipykernel)",
   "language": "python",
   "name": "python3"
  },
  "language_info": {
   "codemirror_mode": {
    "name": "ipython",
    "version": 3
   },
   "file_extension": ".py",
   "mimetype": "text/x-python",
   "name": "python",
   "nbconvert_exporter": "python",
   "pygments_lexer": "ipython3",
   "version": "3.9.6"
  }
 },
 "nbformat": 4,
 "nbformat_minor": 4
}
