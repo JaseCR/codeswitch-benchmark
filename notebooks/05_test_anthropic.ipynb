{
  "cells": [
    {
      "cell_type": "markdown",
      "metadata": {},
      "source": [
        "# Test Anthropic Claude Adapter\n",
        "\n",
        "This notebook tests the Anthropic Claude adapter with different configurations for code-switching analysis.\n"
      ]
    },
    {
      "cell_type": "code",
      "execution_count": null,
      "metadata": {},
      "outputs": [],
      "source": [
        "# Setup: imports and environment\n",
        "import os\n",
        "import sys\n",
        "import pandas as pd\n",
        "from dotenv import load_dotenv\n",
        "\n",
        "# Add src to path\n",
        "sys.path.append('../src')\n",
        "\n",
        "# Load API keys from .env file\n",
        "load_dotenv()\n",
        "\n",
        "# Import our adapter\n",
        "from adapters.anthropic_adapter import AnthropicAdapter\n",
        "\n",
        "# Verify that your key loaded correctly\n",
        "print(\"Anthropic key:\", bool(os.getenv(\"ANTHROPIC_API_KEY\")))\n"
      ]
    },
    {
      "cell_type": "code",
      "execution_count": null,
      "metadata": {},
      "outputs": [],
      "source": [
        "# Initialize Anthropic Claude adapter\n",
        "print(\"🚀 Setting up Anthropic Claude adapter...\")\n",
        "print(\"✅ Using Claude 3.5 Sonnet - latest and most capable model\")\n",
        "print(\"=\" * 55)\n",
        "\n",
        "# Initialize with the latest Claude model\n",
        "anthropic_adapter = AnthropicAdapter(\n",
        "    api_key=os.getenv(\"ANTHROPIC_API_KEY\"),\n",
        "    model=\"claude-3-5-sonnet-20241022\",  # Latest Claude model\n",
        "    temperature=0.7,\n",
        "    max_tokens=1000\n",
        ")\n",
        "\n",
        "print(\"✅ Anthropic Claude adapter initialized successfully!\")\n",
        "print(f\"📊 Model: claude-3-5-sonnet-20241022\")\n",
        "print(f\"📊 Max tokens: 1000\")\n"
      ]
    },
    {
      "cell_type": "code",
      "execution_count": null,
      "metadata": {},
      "outputs": [],
      "source": [
        "# Test basic generation\n",
        "test_prompt = \"Paraphrase this sentence without changing its meaning: He finna go to the store.\"\n",
        "\n",
        "response = anthropic_adapter.generate_response(test_prompt)\n",
        "print(\"Response:\", response)\n"
      ]
    },
    {
      "cell_type": "code",
      "execution_count": null,
      "metadata": {},
      "outputs": [],
      "source": [
        "# Test with system prompt for better code-switching analysis\n",
        "system_prompt = \"\"\"You are a linguist analyzing code-switching behavior. \n",
        "Your task is to preserve the dialectal style and cultural context while \n",
        "paraphrasing or continuing text. Maintain the same linguistic variety \n",
        "and register as the input. Be particularly sensitive to:\n",
        "- AAVE (African American Vernacular English) features\n",
        "- Spanglish mixing patterns\n",
        "- British English regionalisms\n",
        "- Standard English formal registers\"\"\"\n",
        "\n",
        "user_prompt = \"Paraphrase this AAVE sentence: He finna go to the store. You sliding?\"\n",
        "\n",
        "response = anthropic_adapter.generate_with_system_prompt(system_prompt, user_prompt)\n",
        "print(\"Response with system prompt:\", response)\n"
      ]
    },
    {
      "cell_type": "code",
      "execution_count": null,
      "metadata": {},
      "outputs": [],
      "source": [
        "# Test multiple candidates\n",
        "candidates = anthropic_adapter.generate_multiple_candidates(\n",
        "    \"Continue this Spanglish sentence: Vamos later, it's muy close to la tienda.\",\n",
        "    num_candidates=3\n",
        ")\n",
        "\n",
        "print(\"Multiple candidates:\")\n",
        "for i, candidate in enumerate(candidates, 1):\n",
        "    print(f\"{i}. {candidate}\")\n"
      ]
    },
    {
      "cell_type": "code",
      "execution_count": null,
      "metadata": {},
      "outputs": [],
      "source": [
        "# Test different temperature settings\n",
        "temperatures = [0.2, 0.5, 0.8]\n",
        "prompt = \"Explain this British English phrase: 'We're off on holiday next week, fancy it?'\"\n",
        "\n",
        "print(\"Testing different temperature settings:\")\n",
        "print(\"=\" * 50)\n",
        "\n",
        "for temp in temperatures:\n",
        "    anthropic_adapter.update_config(temperature=temp)\n",
        "    response = anthropic_adapter.generate_response(prompt)\n",
        "    print(f\"\\n🌡️ Temperature {temp}:\")\n",
        "    print(f\"Response: {response}\")\n",
        "    print(\"-\" * 30)\n"
      ]
    },
    {
      "cell_type": "code",
      "execution_count": null,
      "metadata": {},
      "outputs": [],
      "source": [
        "# Test with retry mechanism\n",
        "print(\"Testing retry mechanism:\")\n",
        "print(\"=\" * 30)\n",
        "\n",
        "response = anthropic_adapter.generate_with_retry(\n",
        "    \"Paraphrase this: Ion think that plan gon' work.\",\n",
        "    max_retries=3\n",
        ")\n",
        "print(f\"Response with retry: {response}\")\n"
      ]
    },
    {
      "cell_type": "code",
      "execution_count": null,
      "metadata": {},
      "outputs": [],
      "source": [
        "# Get available models\n",
        "print(\"Available Anthropic Claude models:\")\n",
        "print(\"=\" * 40)\n",
        "\n",
        "models = anthropic_adapter.get_available_models()\n",
        "for model in models:\n",
        "    print(f\"• {model}\")\n",
        "\n",
        "print(f\"\\nTotal models available: {len(models)}\")\n"
      ]
    },
    {
      "cell_type": "code",
      "execution_count": null,
      "metadata": {},
      "outputs": [],
      "source": [
        "# Test with different Claude models\n",
        "print(\"Testing different Anthropic Claude models:\")\n",
        "print(\"=\" * 45)\n",
        "\n",
        "models_to_test = [\"claude-3-5-sonnet-20241022\", \"claude-3-5-haiku-20241022\", \"claude-3-sonnet-20240229\"]\n",
        "test_prompt = \"Continue this sentence in the same style: We was tryna finish that yesterday\"\n",
        "\n",
        "for model in models_to_test:\n",
        "    try:\n",
        "        print(f\"\\n🤖 Testing {model}:\")\n",
        "        adapter = AnthropicAdapter(\n",
        "            api_key=os.getenv(\"ANTHROPIC_API_KEY\"),\n",
        "            model=model,\n",
        "            temperature=0.7,\n",
        "            max_tokens=300\n",
        "        )\n",
        "        response = adapter.generate_response(test_prompt)\n",
        "        print(f\"Response: {response}\")\n",
        "        print(\"-\" * 45)\n",
        "    except Exception as e:\n",
        "        print(f\"❌ Error with {model}: {e}\")\n",
        "        print(\"-\" * 45)\n"
      ]
    },
    {
      "cell_type": "code",
      "execution_count": null,
      "metadata": {},
      "outputs": [],
      "source": [
        "# Test batch processing with our stimuli data\n",
        "print(\"Loading stimuli data for batch processing:\")\n",
        "print(\"=\" * 45)\n",
        "\n",
        "stimuli = pd.read_csv(\"../data/raw/stimuli.csv\")\n",
        "print(f\"Loaded {len(stimuli)} stimuli\")\n",
        "print(\"\\nFirst few examples:\")\n",
        "stimuli.head()\n"
      ]
    },
    {
      "cell_type": "code",
      "execution_count": null,
      "metadata": {},
      "outputs": [],
      "source": [
        "# Process examples with Anthropic Claude\n",
        "from tqdm import tqdm\n",
        "\n",
        "print(\"Processing stimuli with Anthropic Claude:\")\n",
        "print(\"=\" * 45)\n",
        "\n",
        "# Reset to good settings for batch processing\n",
        "anthropic_adapter.update_config(temperature=0.5, max_tokens=500)\n",
        "\n",
        "responses = []\n",
        "for i, row in tqdm(stimuli.head(5).iterrows(), total=5):\n",
        "    # Create task-specific prompt\n",
        "    if row.task == \"paraphrase\":\n",
        "        prompt = f\"Paraphrase this text in the same dialectal style: {row.text}\"\n",
        "    elif row.task == \"explain\":\n",
        "        prompt = f\"Explain this text in simple terms while preserving the dialectal style: {row.text}\"\n",
        "    elif row.task == \"continue\":\n",
        "        prompt = f\"Continue this text in the same dialectal style: {row.text}\"\n",
        "    else:\n",
        "        prompt = f\"Process this text while maintaining the dialectal style: {row.text}\"\n",
        "    \n",
        "    output = anthropic_adapter.generate_response(prompt)\n",
        "    responses.append({\n",
        "        \"id\": row.id,\n",
        "        \"variety\": row.variety,\n",
        "        \"task\": row.task,\n",
        "        \"input_text\": row.text,\n",
        "        \"output_text\": output\n",
        "    })\n",
        "\n",
        "df = pd.DataFrame(responses)\n",
        "print(\"\\nAnthropic Claude responses:\")\n",
        "df\n"
      ]
    },
    {
      "cell_type": "code",
      "execution_count": null,
      "metadata": {},
      "outputs": [],
      "source": [
        "# Save results to CSV\n",
        "if 'df' in locals() and not df.empty:\n",
        "    output_file = \"../data/raw/anthropic_test_responses.csv\"\n",
        "    df.to_csv(output_file, index=False)\n",
        "    print(f\"✅ Saved Anthropic test responses to {output_file}\")\n",
        "else:\n",
        "    print(\"No responses to save\")\n"
      ]
    }
  ],
  "metadata": {
    "language_info": {
      "name": "python"
    }
  },
  "nbformat": 4,
  "nbformat_minor": 2
}
