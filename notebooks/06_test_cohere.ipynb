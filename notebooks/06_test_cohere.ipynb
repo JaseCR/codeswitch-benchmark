{
 "cells": [
  {
   "cell_type": "markdown",
   "metadata": {},
   "source": [
    "# Test Cohere API Adapter\n",
    "\n",
    "This notebook tests the Cohere API adapter with automatic debugging.\n"
   ]
  },
  {
   "cell_type": "code",
   "execution_count": 1,
   "metadata": {},
   "outputs": [
    {
     "name": "stderr",
     "output_type": "stream",
     "text": [
      "/Users/jase/Library/Python/3.9/lib/python/site-packages/urllib3/__init__.py:35: NotOpenSSLWarning: urllib3 v2 only supports OpenSSL 1.1.1+, currently the 'ssl' module is compiled with 'LibreSSL 2.8.3'. See: https://github.com/urllib3/urllib3/issues/3020\n",
      "  warnings.warn(\n"
     ]
    },
    {
     "name": "stdout",
     "output_type": "stream",
     "text": [
      "🚀 Cohere Debug Agent - Full Diagnosis\n",
      "============================================================\n",
      "\n",
      "🔧 Running Comprehensive Diagnosis...\n",
      "==================================================\n",
      "🔍 Cohere Debug Agent Starting...\n",
      "==================================================\n",
      "✅ Found project root: /Users/jase/codeswitch-benchmark\n",
      "✅ Found .env file: /Users/jase/codeswitch-benchmark/.env\n",
      "📁 Changing directory from /Users/jase/codeswitch-benchmark/notebooks to /Users/jase/codeswitch-benchmark\n",
      "✅ Environment variables loaded\n",
      "✅ API key found (prefix: SgUydfH)\n",
      "✅ API key length: 40 characters\n",
      "✅ Cohere client initialized\n",
      "\n",
      "🧪 Testing Cohere API Connection...\n",
      "==================================================\n",
      "\n",
      "🔄 Testing command-r-plus-08-2024...\n",
      "✅ command-r-plus-08-2024 works: Hello!\n",
      "\n",
      "✅ All tests passed! Cohere API is working correctly.\n",
      "\n",
      "🔧 Fixing Notebook Path Issues...\n",
      "==================================================\n",
      "✅ Added /Users/jase/codeswitch-benchmark/src to Python path\n",
      "\n",
      "🎉 All systems operational!\n",
      "You can now use the Cohere API in your notebooks.\n",
      "\n",
      "🎉 Ready to use Cohere API!\n"
     ]
    }
   ],
   "source": [
    "# 🚀 AUTOMATIC DEBUG AGENT - Run this cell first!\n",
    "import sys\n",
    "import os\n",
    "\n",
    "# Add src to path for imports\n",
    "current_dir = os.getcwd()\n",
    "if current_dir.endswith('notebooks'):\n",
    "    # We're in notebooks directory, add parent/src to path\n",
    "    src_path = os.path.join('..', 'src')\n",
    "else:\n",
    "    # We're in project root, add src to path\n",
    "    src_path = 'src'\n",
    "\n",
    "if src_path not in sys.path:\n",
    "    sys.path.insert(0, src_path)\n",
    "\n",
    "# Import and run the debug agent\n",
    "from debug_cohere import debug_cohere\n",
    "\n",
    "# Run full diagnosis\n",
    "success = debug_cohere()\n",
    "\n",
    "if success:\n",
    "    print(\"\\n🎉 Ready to use Cohere API!\")\n",
    "else:\n",
    "    print(\"\\n❌ Issues detected. Please check the output above.\")\n"
   ]
  },
  {
   "cell_type": "code",
   "execution_count": 2,
   "metadata": {},
   "outputs": [
    {
     "name": "stdout",
     "output_type": "stream",
     "text": [
      "🧪 Testing query_cohere function...\n",
      "✅ query_cohere works: Hello!\n"
     ]
    }
   ],
   "source": [
    "# Test the query_cohere function (only run after debug agent succeeds)\n",
    "from adapters.cohere_adapter import query_cohere\n",
    "\n",
    "print(\"🧪 Testing query_cohere function...\")\n",
    "try:\n",
    "    result = query_cohere(\"Say hello in one word.\")\n",
    "    print(\"✅ query_cohere works:\", result)\n",
    "except Exception as e:\n",
    "    print(\"❌ query_cohere failed:\", e)\n"
   ]
  },
  {
   "cell_type": "code",
   "execution_count": 3,
   "metadata": {},
   "outputs": [
    {
     "name": "stdout",
     "output_type": "stream",
     "text": [
      "🧪 Testing query_cohere with different prompts:\n",
      "==================================================\n",
      "\n",
      "1. Prompt: Paraphrase this AAVE sentence: He finna go to the store.\n",
      "   Response: He is about to go to the store.\n",
      "--------------------------------------------------\n",
      "\n",
      "2. Prompt: Continue this Spanglish: Vamos later, it's muy close to la tienda.\n",
      "   Response: ¡Claro! Podemos caminar hasta la tienda, está a solo unas pocas cuadras de aquí. ¿Quieres comprar algo en específico? ¡Es un lindo día para dar un paseo y explorar lo que tienen en oferta!\n",
      "--------------------------------------------------\n",
      "\n",
      "3. Prompt: Explain this British English: We're off on holiday next week, fancy it?\n",
      "   Response: This sentence is an invitation to join the speaker on a holiday next week.\n",
      "--------------------------------------------------\n"
     ]
    }
   ],
   "source": [
    "# Test with different code-switching prompts\n",
    "print(\"🧪 Testing query_cohere with different prompts:\")\n",
    "print(\"=\" * 50)\n",
    "\n",
    "test_prompts = [\n",
    "    \"Paraphrase this AAVE sentence: He finna go to the store.\",\n",
    "    \"Continue this Spanglish: Vamos later, it's muy close to la tienda.\",\n",
    "    \"Explain this British English: We're off on holiday next week, fancy it?\"\n",
    "]\n",
    "\n",
    "for i, prompt in enumerate(test_prompts, 1):\n",
    "    try:\n",
    "        result = query_cohere(prompt)\n",
    "        print(f\"\\n{i}. Prompt: {prompt}\")\n",
    "        print(f\"   Response: {result}\")\n",
    "    except Exception as e:\n",
    "        print(f\"\\n{i}. Prompt: {prompt}\")\n",
    "        print(f\"   Error: {e}\")\n",
    "    print(\"-\" * 50)\n"
   ]
  }
 ],
 "metadata": {
  "kernelspec": {
   "display_name": "Python 3 (ipykernel)",
   "language": "python",
   "name": "python3"
  },
  "language_info": {
   "codemirror_mode": {
    "name": "ipython",
    "version": 3
   },
   "file_extension": ".py",
   "mimetype": "text/x-python",
   "name": "python",
   "nbconvert_exporter": "python",
   "pygments_lexer": "ipython3",
   "version": "3.9.6"
  }
 },
 "nbformat": 4,
 "nbformat_minor": 4
}
